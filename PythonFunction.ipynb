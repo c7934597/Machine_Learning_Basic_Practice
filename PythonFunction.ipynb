{
  "nbformat": 4,
  "nbformat_minor": 0,
  "metadata": {
    "colab": {
      "name": "PythonFunction.ipynb",
      "version": "0.3.2",
      "provenance": [],
      "collapsed_sections": [],
      "include_colab_link": true
    },
    "kernelspec": {
      "name": "python3",
      "display_name": "Python 3"
    }
  },
  "cells": [
    {
      "cell_type": "markdown",
      "metadata": {
        "id": "view-in-github",
        "colab_type": "text"
      },
      "source": [
        "<a href=\"https://colab.research.google.com/github/c7934597/Python_Basic_Practice/blob/master/PythonFunction.ipynb\" target=\"_parent\"><img src=\"https://colab.research.google.com/assets/colab-badge.svg\" alt=\"Open In Colab\"/></a>"
      ]
    },
    {
      "cell_type": "code",
      "metadata": {
        "id": "qUjfmZCB-iYE",
        "colab_type": "code",
        "outputId": "62f3ad67-2c2a-4338-bb08-102f12f09772",
        "colab": {
          "base_uri": "https://localhost:8080/",
          "height": 35
        }
      },
      "source": [
        "'''\n",
        "map()函数——作用于list每一个元素\n",
        "map()是 Python 内置的高阶函数，它接收一个函数 f() 和一个 list，并通过把函数 f 依次作用在 list 的每个元素上，得到一个新的 list 并返回。(这个函数与 R 中的 lapply 非常相似)\n",
        "\n",
        "用法map(function, sequence)\n",
        "\n",
        "轻松转换 list 中元素类型：\n",
        "例如 chr 类型转换成 int\n",
        "'''\n",
        "\n",
        "l = ['1','2','3','4']\n",
        "list(map(int,l))"
      ],
      "execution_count": 0,
      "outputs": [
        {
          "output_type": "execute_result",
          "data": {
            "text/plain": [
              "[1, 2, 3, 4]"
            ]
          },
          "metadata": {
            "tags": []
          },
          "execution_count": 1
        }
      ]
    },
    {
      "cell_type": "code",
      "metadata": {
        "id": "ajzfq_SB-0wH",
        "colab_type": "code",
        "outputId": "c48758ee-6c3f-4f5c-d150-e7afdcea3b7c",
        "colab": {
          "base_uri": "https://localhost:8080/",
          "height": 35
        }
      },
      "source": [
        "'''\n",
        "编写独立函数作用与 list 中每一个元素：\n",
        "例如对 list 中每一个元素求平方\n",
        "'''\n",
        "\n",
        "def f(x):\n",
        "    return x**2\n",
        "\n",
        "l =[1,2,3,4]\n",
        "\n",
        "list(map(f,l))"
      ],
      "execution_count": 0,
      "outputs": [
        {
          "output_type": "execute_result",
          "data": {
            "text/plain": [
              "[1, 4, 9, 16]"
            ]
          },
          "metadata": {
            "tags": []
          },
          "execution_count": 2
        }
      ]
    },
    {
      "cell_type": "code",
      "metadata": {
        "id": "sgOe5wjf_HFO",
        "colab_type": "code",
        "outputId": "463cf1fa-4b3e-410b-e9d5-944a4938f633",
        "colab": {
          "base_uri": "https://localhost:8080/",
          "height": 35
        }
      },
      "source": [
        "'''\n",
        "使用匿名函数操作：\n",
        "'''\n",
        "\n",
        "l =[1,2,3,4]\n",
        "list(map(lambda x: x**2, l))"
      ],
      "execution_count": 0,
      "outputs": [
        {
          "output_type": "execute_result",
          "data": {
            "text/plain": [
              "[1, 4, 9, 16]"
            ]
          },
          "metadata": {
            "tags": []
          },
          "execution_count": 3
        }
      ]
    },
    {
      "cell_type": "code",
      "metadata": {
        "id": "_D0HsuMH_LoK",
        "colab_type": "code",
        "outputId": "e296612b-4003-4f64-ca90-7b7193feaf6c",
        "colab": {
          "base_uri": "https://localhost:8080/",
          "height": 35
        }
      },
      "source": [
        "'''\n",
        "同时操作两个 list(并行非多核运算)\n",
        "'''\n",
        "\n",
        "l =[1,2,3,4]\n",
        "list(map(lambda x,y: x+y,l,l))"
      ],
      "execution_count": 0,
      "outputs": [
        {
          "output_type": "execute_result",
          "data": {
            "text/plain": [
              "[2, 4, 6, 8]"
            ]
          },
          "metadata": {
            "tags": []
          },
          "execution_count": 4
        }
      ]
    },
    {
      "cell_type": "code",
      "metadata": {
        "id": "dPvw7cZ7_a6K",
        "colab_type": "code",
        "outputId": "6d3a48d6-b268-4de1-bd95-30a2036d6308",
        "colab": {
          "base_uri": "https://localhost:8080/",
          "height": 35
        }
      },
      "source": [
        "'''\n",
        "filter()函数——筛选函数\n",
        "按照 function 函数的规则在列表 sequence 中筛选数据\n",
        "用法：filter(function, sequence)\n",
        "筛选 list 中符合条件的值\n",
        "'''\n",
        "\n",
        "l =[1,2,3,4]\n",
        "ff = []\n",
        "for i in filter(lambda x: x>2, l):\n",
        "  ff.append(i)\n",
        "print(ff)"
      ],
      "execution_count": 0,
      "outputs": [
        {
          "output_type": "stream",
          "text": [
            "[3, 4]\n"
          ],
          "name": "stdout"
        }
      ]
    },
    {
      "cell_type": "code",
      "metadata": {
        "id": "TV4I0cM4Ayit",
        "colab_type": "code",
        "outputId": "b62aeb2e-79fc-46d6-b71c-422645eb8da1",
        "colab": {
          "base_uri": "https://localhost:8080/",
          "height": 35
        }
      },
      "source": [
        "'''\n",
        "filter() 与 map() 返回值不同\n",
        "'''\n",
        "\n",
        "l =[1,2,3,4]\n",
        "ff = []\n",
        "for i in map(lambda x: x>2, l):\n",
        "  ff.append(i)\n",
        "print(ff)"
      ],
      "execution_count": 0,
      "outputs": [
        {
          "output_type": "stream",
          "text": [
            "[False, False, True, True]\n"
          ],
          "name": "stdout"
        }
      ]
    },
    {
      "cell_type": "code",
      "metadata": {
        "id": "K2xPmuTmBCpl",
        "colab_type": "code",
        "outputId": "9a4d580c-97d5-41c4-81dc-ea255845d1de",
        "colab": {
          "base_uri": "https://localhost:8080/",
          "height": 35
        }
      },
      "source": [
        "'''\n",
        "reduce()——求积累运算\n",
        "reduce函数功能是将 sequence 中数据，按照 function 函数操作，如将列表第一个数与第二个数进行 function 操作，\n",
        "得到的结果和列表中下一个数据进行 function 操作，一直循环下去…\n",
        "\n",
        "用法reduce(function, sequence):\n",
        "\n",
        "求积累和\n",
        "'''\n",
        "from functools import reduce\n",
        "\n",
        "l =[1, 2, 3, 4]\n",
        "reduce(lambda x,y: x+y, l)"
      ],
      "execution_count": 0,
      "outputs": [
        {
          "output_type": "execute_result",
          "data": {
            "text/plain": [
              "10"
            ]
          },
          "metadata": {
            "tags": []
          },
          "execution_count": 20
        }
      ]
    }
  ]
}
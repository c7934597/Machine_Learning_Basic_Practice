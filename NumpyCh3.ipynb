{
  "nbformat": 4,
  "nbformat_minor": 0,
  "metadata": {
    "colab": {
      "name": "NumpyCh3.ipynb",
      "version": "0.3.2",
      "provenance": [],
      "collapsed_sections": [],
      "include_colab_link": true
    },
    "kernelspec": {
      "name": "python3",
      "display_name": "Python 3"
    }
  },
  "cells": [
    {
      "cell_type": "markdown",
      "metadata": {
        "id": "view-in-github",
        "colab_type": "text"
      },
      "source": [
        "<a href=\"https://colab.research.google.com/github/c7934597/Python_Basic_Practice/blob/master/NumpyCh3.ipynb\" target=\"_parent\"><img src=\"https://colab.research.google.com/assets/colab-badge.svg\" alt=\"Open In Colab\"/></a>"
      ]
    },
    {
      "cell_type": "code",
      "metadata": {
        "id": "VfLJanJrEOpt",
        "colab_type": "code",
        "outputId": "79af00c3-c2ab-4c37-ae90-d2234d999205",
        "colab": {
          "base_uri": "https://localhost:8080/",
          "height": 208
        }
      },
      "source": [
        "'''\n",
        "加、減、次方\n",
        "基礎運算-1\n",
        "加、減、次方的計算非常直覺好懂，分別使用『 + 、 – 、 ** 』就可以了。\n",
        "例如：加、減、次方都可以直接做單一數值的同加、同減、次方。\n",
        "'''\n",
        "\n",
        "import numpy as np\n",
        "\n",
        "print('維度相同的矩陣相加、減:')\n",
        "# 維度相同的矩陣相加、減\n",
        "a = np.array( [6, 7, 8, 9] )\n",
        "b = np.arange( 4 )\n",
        "c = a - b\n",
        "print(\"a=>{0}\".format(a))\n",
        "print(\"b=>{0}\".format(b))\n",
        "print(\"c=>{0}\".format(c))\n",
        " \n",
        " \n",
        "print('\\n同加、同減一個數值:')\n",
        "# 同加、同減一個數值\n",
        "a += 5\n",
        "print(\"a=>{0}\".format(a))\n",
        "b -= 5\n",
        "print(\"b=>{0}\".format(b))\n",
        " \n",
        " \n",
        "print('\\n次方：')\n",
        "# d是b的2次方\n",
        "# d is squared of b.\n",
        "d = b**2\n",
        "print(\"d=>{0}\".format(d))"
      ],
      "execution_count": 0,
      "outputs": [
        {
          "output_type": "stream",
          "text": [
            "維度相同的矩陣相加、減:\n",
            "a=>[6 7 8 9]\n",
            "b=>[0 1 2 3]\n",
            "c=>[6 6 6 6]\n",
            "\n",
            "同加、同減一個數值:\n",
            "a=>[11 12 13 14]\n",
            "b=>[-5 -4 -3 -2]\n",
            "\n",
            "次方：\n",
            "d=>[25 16  9  4]\n"
          ],
          "name": "stdout"
        }
      ]
    },
    {
      "cell_type": "code",
      "metadata": {
        "id": "MrGutnSFFOAN",
        "colab_type": "code",
        "outputId": "0689203e-6904-4aa3-f204-26eb1c4d20d5",
        "colab": {
          "base_uri": "https://localhost:8080/",
          "height": 208
        }
      },
      "source": [
        "'''\n",
        "同除、同乘特定數\n",
        "基礎運算-2\n",
        "矩陣(matrix)同乘上某個特定純量(scalar)也很簡單，就直接相乘就好了！\n",
        "'''\n",
        "\n",
        "a = np.arange(5)\n",
        "b = np.arange(10, 5, -1)\n",
        "print(\"a=>{0}\".format(a))\n",
        "print(\"b=>{0}\".format(b))\n",
        "print(\"\\n同除:\")\n",
        "# c等於a同除以2\n",
        "c = a / 2\n",
        "print(\"c=>{0}\".format(c))\n",
        "\n",
        "print(\"\\n轉整數:\")\n",
        "print(c.astype(int))\n",
        " \n",
        "print(\"\\n同乘:\")\n",
        "# d等於b同乘以2\n",
        "d = b * 2\n",
        "print(\"d=>{0}\".format(b))"
      ],
      "execution_count": 0,
      "outputs": [
        {
          "output_type": "stream",
          "text": [
            "a=>[0 1 2 3 4]\n",
            "b=>[10  9  8  7  6]\n",
            "\n",
            "同除:\n",
            "c=>[0.  0.5 1.  1.5 2. ]\n",
            "\n",
            "轉整數:\n",
            "[0 0 1 1 2]\n",
            "\n",
            "同乘:\n",
            "d=>[10  9  8  7  6]\n"
          ],
          "name": "stdout"
        }
      ]
    },
    {
      "cell_type": "code",
      "metadata": {
        "id": "LfnjiC87GSvg",
        "colab_type": "code",
        "outputId": "1409790d-fb1a-4bf7-e97c-3c1f07525c0f",
        "colab": {
          "base_uri": "https://localhost:8080/",
          "height": 139
        }
      },
      "source": [
        "# 矩陣相乘\n",
        "A = np.array([[1, 2], [3, 4]])\n",
        "B = np.array([[5, 6], [7, 8]])\n",
        "print(\"A, B相乘(矩陣乘法) =>\\n{0}\".format(A.dot(B)))\n",
        "print()\n",
        "print(\"A, B相對應位置相乘=>\\n{0}\".format(A*B))"
      ],
      "execution_count": 0,
      "outputs": [
        {
          "output_type": "stream",
          "text": [
            "A, B相乘(矩陣乘法) =>\n",
            "[[19 22]\n",
            " [43 50]]\n",
            "\n",
            "A, B相對應位置相乘=>\n",
            "[[ 5 12]\n",
            " [21 32]]\n"
          ],
          "name": "stdout"
        }
      ]
    },
    {
      "cell_type": "code",
      "metadata": {
        "id": "czLA99ESHPAt",
        "colab_type": "code",
        "outputId": "b4cbce7a-2fe6-4af8-b3e8-bea3fe25eeda",
        "colab": {
          "base_uri": "https://localhost:8080/",
          "height": 52
        }
      },
      "source": [
        "'''\n",
        "取代\n",
        "取代\n",
        "這個也很常用到喔，像是有時候要把矩陣裡面NaN的數值取代成0的時候就很好用！\n",
        "舉例：判斷陣列元素值小於等於0的元素，把那些元素的數值取代成1\n",
        "'''\n",
        "\n",
        "# 印出陣列中小於等於0的元素\n",
        "e = np.array([5, -1, 3, 9, 0])\n",
        "print(\"陣列e裡面哪幾個位置的元素值小於等於零?:{0}\".format(e<=0))\n",
        " \n",
        "# 把小於等於0的元素取代成1\n",
        "e[e<=0] = 1\n",
        "print(\"把小於等於0的元素取代成1=>{0}\".format(e))"
      ],
      "execution_count": 0,
      "outputs": [
        {
          "output_type": "stream",
          "text": [
            "陣列e裡面哪幾個位置的元素值小於等於零?:[False  True False False  True]\n",
            "把小於等於0的元素取代成1=>[5 1 3 9 1]\n"
          ],
          "name": "stdout"
        }
      ]
    },
    {
      "cell_type": "code",
      "metadata": {
        "id": "pSfNcInaHjl0",
        "colab_type": "code",
        "outputId": "b13d81cf-9c9b-48a2-883d-b16cc309f9bf",
        "colab": {
          "base_uri": "https://localhost:8080/",
          "height": 173
        }
      },
      "source": [
        "'''\n",
        "陣列元素的型別\n",
        "常犯錯誤\n",
        "因為NumPy太好用了，導致有時候甚至會忽略兩個要做運算的陣列型別根本不符，最後就會出錯～哈\n",
        "用下列例子給大家了解這種狀況：\n",
        "'''\n",
        "\n",
        "## Operations: += *=\n",
        "a = np.ones((2, 3), dtype=np.float)\n",
        "b = np.random.random((2,3))\n",
        "\n",
        "a *= 5\n",
        "print(\"a=>\\n{0}\".format(a))\n",
        "b += a\n",
        "print(\"b=>\\n{0}\".format(b))\n",
        " \n",
        "a += b\n",
        "print(\"a=>\\n{0}\".format(a))\n"
      ],
      "execution_count": 0,
      "outputs": [
        {
          "output_type": "stream",
          "text": [
            "a=>\n",
            "[[5. 5. 5.]\n",
            " [5. 5. 5.]]\n",
            "b=>\n",
            "[[5.55757803 5.39473183 5.57315757]\n",
            " [5.17041489 5.22084062 5.8650287 ]]\n",
            "a=>\n",
            "[[10.55757803 10.39473183 10.57315757]\n",
            " [10.17041489 10.22084062 10.8650287 ]]\n"
          ],
          "name": "stdout"
        }
      ]
    },
    {
      "cell_type": "code",
      "metadata": {
        "id": "UMseREb_J771",
        "colab_type": "code",
        "outputId": "7f639766-6773-4406-d6f6-e7e726a2c84b",
        "colab": {
          "base_uri": "https://localhost:8080/",
          "height": 322
        }
      },
      "source": [
        "'''\n",
        "如果把上面範例第二行程式的 np.float 改成 np.int 就會出錯喔！\n",
        "下列程式第11行：硬是用型別為int的矩陣加上一個型別為float的矩陣，肯定會出錯的吧！\n",
        "'''\n",
        "\n",
        "## Operations: += *=\n",
        "a = np.ones((2, 3), dtype=np.int)\n",
        "b = np.random.random( (2,3) )\n",
        "a *= 5\n",
        "print(\"a=>\\n{0}\".format(a))\n",
        "b += a\n",
        "# float64 = float64 + int64\n",
        "print(\"b=>\\n{0}\".format(b))\n",
        " \n",
        "# int64 = int64 + float64\n",
        "a += b\n",
        "print(\"a=>\\n{0}\".format(a))"
      ],
      "execution_count": 0,
      "outputs": [
        {
          "output_type": "stream",
          "text": [
            "a=>\n",
            "[[5 5 5]\n",
            " [5 5 5]]\n",
            "b=>\n",
            "[[5.76089549 5.66127998 5.46144284]\n",
            " [5.47066847 5.76082421 5.74131106]]\n"
          ],
          "name": "stdout"
        },
        {
          "output_type": "error",
          "ename": "TypeError",
          "evalue": "ignored",
          "traceback": [
            "\u001b[0;31m---------------------------------------------------------------------------\u001b[0m",
            "\u001b[0;31mTypeError\u001b[0m                                 Traceback (most recent call last)",
            "\u001b[0;32m<ipython-input-22-7eb761cf4af6>\u001b[0m in \u001b[0;36m<module>\u001b[0;34m()\u001b[0m\n\u001b[1;32m     14\u001b[0m \u001b[0;34m\u001b[0m\u001b[0m\n\u001b[1;32m     15\u001b[0m \u001b[0;31m# int64 = int64 + float64\u001b[0m\u001b[0;34m\u001b[0m\u001b[0;34m\u001b[0m\u001b[0;34m\u001b[0m\u001b[0m\n\u001b[0;32m---> 16\u001b[0;31m \u001b[0ma\u001b[0m \u001b[0;34m+=\u001b[0m \u001b[0mb\u001b[0m\u001b[0;34m\u001b[0m\u001b[0;34m\u001b[0m\u001b[0m\n\u001b[0m\u001b[1;32m     17\u001b[0m \u001b[0mprint\u001b[0m\u001b[0;34m(\u001b[0m\u001b[0;34m\"a=>\\n{0}\"\u001b[0m\u001b[0;34m.\u001b[0m\u001b[0mformat\u001b[0m\u001b[0;34m(\u001b[0m\u001b[0ma\u001b[0m\u001b[0;34m)\u001b[0m\u001b[0;34m)\u001b[0m\u001b[0;34m\u001b[0m\u001b[0;34m\u001b[0m\u001b[0m\n",
            "\u001b[0;31mTypeError\u001b[0m: Cannot cast ufunc add output from dtype('float64') to dtype('int64') with casting rule 'same_kind'"
          ]
        }
      ]
    },
    {
      "cell_type": "code",
      "metadata": {
        "id": "gAGQ1J4mKVlK",
        "colab_type": "code",
        "outputId": "e8d6d8ec-85c4-498b-b57b-ec9534870746",
        "colab": {
          "base_uri": "https://localhost:8080/",
          "height": 156
        }
      },
      "source": [
        "'''\n",
        "矩陣的屬性\n",
        "常用方法-1\n",
        "NumPy矩陣本身在初始化之後就內建一些好用的方法！\n",
        "sum：矩陣加總\n",
        "min：矩陣最小值\n",
        "max：矩陣最大值\n",
        "mean：矩陣平均值\n",
        "'''\n",
        "\n",
        "## Methods: sum, min, max, mean\n",
        "a = np.random.random((3, 3))\n",
        "print(\"sum=>{0}\\nmax=>{1}\\nmin=>{2}\\nmean=>{3}\".format(a.sum(), a.max(), a.min(), a.mean()))\n",
        "1\n",
        "2\n",
        "3\n",
        "## Methods: sum, min, max, mean\n",
        "a = np.random.random((3, 3))\n",
        "print(\"sum=>{0}\\nmax=>{1}\\nmin=>{2}\\nmean=>{3}\".format(a.sum(), a.max(), a.min(), a.mean()))"
      ],
      "execution_count": 0,
      "outputs": [
        {
          "output_type": "stream",
          "text": [
            "sum=>5.106440298852572\n",
            "max=>0.9313489271125839\n",
            "min=>0.02197584623034954\n",
            "mean=>0.5673822554280635\n",
            "sum=>3.310586567315604\n",
            "max=>0.9919592141061149\n",
            "min=>0.054119444175696696\n",
            "mean=>0.367842951923956\n"
          ],
          "name": "stdout"
        }
      ]
    },
    {
      "cell_type": "code",
      "metadata": {
        "id": "6T3SBFeXK5Hk",
        "colab_type": "code",
        "outputId": "bfdf8c29-38f6-482c-ecbc-dc0b80441734",
        "colab": {
          "base_uri": "https://localhost:8080/",
          "height": 243
        }
      },
      "source": [
        "'''\n",
        "矩陣的一些方法\n",
        "常用方法-2\n",
        "sum：axis=0或1  算是進階用法，可以指定要加總的維度是哪一個\n",
        "cumsum：這是可以拿來對陣列值做出累計加總的效果，可以用在一維陣列上，數值就可以直接拿來畫出累計趨勢圖喔～\n",
        "'''\n",
        "\n",
        "b = np.arange(12).reshape(2, 6)\n",
        "print(\"b=>\\n{0}\".format(b))\n",
        " \n",
        "print()\n",
        "# 加總每一欄(column)\n",
        "print(\"b.sum(axis=0)=>{0}\".format(b.sum(axis=0)))\n",
        " \n",
        "print()\n",
        "# 加總每一列(row)\n",
        "print(\"b.sum(axis=1)=>{0}\".format(b.sum(axis=1)))\n",
        " \n",
        "print()\n",
        "revenu = np.round(np.random.random((1,12)) * 100, 0) # np.round  四捨五入到指定小數位\n",
        "revenu = revenu.astype(int)\n",
        "print(\"revenu=>\\n{0}\".format(revenu))\n",
        " \n",
        "print()\n",
        "# 累計加總(每一項數值等於自己加上前一項)\n",
        "print(\"Cumulative Sum of revenu=>\\n{0}\".format(revenu.cumsum()))"
      ],
      "execution_count": 0,
      "outputs": [
        {
          "output_type": "stream",
          "text": [
            "b=>\n",
            "[[ 0  1  2  3  4  5]\n",
            " [ 6  7  8  9 10 11]]\n",
            "\n",
            "b.sum(axis=0)=>[ 6  8 10 12 14 16]\n",
            "\n",
            "b.sum(axis=1)=>[15 51]\n",
            "\n",
            "revenu=>\n",
            "[[33 98  7 90 26 47 25 74 83 11 44 23]]\n",
            "\n",
            "Cumulative Sum of revenu=>\n",
            "[ 33 131 138 228 254 301 326 400 483 494 538 561]\n"
          ],
          "name": "stdout"
        }
      ]
    },
    {
      "cell_type": "code",
      "metadata": {
        "id": "uzvuTe7XMzDi",
        "colab_type": "code",
        "outputId": "d2f979a7-fd78-4236-b876-ce4fb0e64510",
        "colab": {
          "base_uri": "https://localhost:8080/",
          "height": 69
        }
      },
      "source": [
        "'''\n",
        "常用方法-3\n",
        "np.sqrt：矩陣內所有元素開平方根\n",
        "np.exp：矩陣內所有元素進行Exponential function(e)運算\n",
        "np.add：矩陣或陣列相加\n",
        "'''\n",
        "\n",
        "B = np.arange(3)\n",
        "B_exp = np.exp(B)\n",
        "print(\"B_exp=> {0}\".format(B_exp))\n",
        " \n",
        "B_sqrt = np.sqrt(B)\n",
        "print(\"B_sqrt=> {0}\".format(B_sqrt))\n",
        " \n",
        "C = np.array([2, 1, 0])\n",
        "print(\"np.add(B, C)=> {0}\".format(np.add(B, C)))"
      ],
      "execution_count": 0,
      "outputs": [
        {
          "output_type": "stream",
          "text": [
            "B_exp=> [1.         2.71828183 7.3890561 ]\n",
            "B_sqrt=> [0.         1.         1.41421356]\n",
            "np.add(B, C)=> [2 2 2]\n"
          ],
          "name": "stdout"
        }
      ]
    },
    {
      "cell_type": "code",
      "metadata": {
        "id": "zw1HT-E-Npfc",
        "colab_type": "code",
        "outputId": "f23c97c2-1a1f-4882-8917-86ad11349609",
        "colab": {
          "base_uri": "https://localhost:8080/",
          "height": 173
        }
      },
      "source": [
        "'''\n",
        "np.add：矩陣或陣列相加\n",
        "'''\n",
        "\n",
        "x1 = np.arange(9).reshape((3, 3))\n",
        "print(\"{0}\\n\".format(x1))\n",
        "x2 = np.arange(3)\n",
        "print(\"{0}\\n\".format(x2))\n",
        "np.add(x1, x2)"
      ],
      "execution_count": 0,
      "outputs": [
        {
          "output_type": "stream",
          "text": [
            "[[0 1 2]\n",
            " [3 4 5]\n",
            " [6 7 8]]\n",
            "\n",
            "[0 1 2]\n",
            "\n"
          ],
          "name": "stdout"
        },
        {
          "output_type": "execute_result",
          "data": {
            "text/plain": [
              "array([[ 0,  2,  4],\n",
              "       [ 3,  5,  7],\n",
              "       [ 6,  8, 10]])"
            ]
          },
          "metadata": {
            "tags": []
          },
          "execution_count": 38
        }
      ]
    }
  ]
}
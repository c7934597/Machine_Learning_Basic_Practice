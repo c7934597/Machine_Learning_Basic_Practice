{
  "nbformat": 4,
  "nbformat_minor": 0,
  "metadata": {
    "colab": {
      "name": "lambda.ipynb",
      "version": "0.3.2",
      "provenance": [],
      "collapsed_sections": [],
      "include_colab_link": true
    },
    "kernelspec": {
      "name": "python3",
      "display_name": "Python 3"
    }
  },
  "cells": [
    {
      "cell_type": "markdown",
      "metadata": {
        "id": "view-in-github",
        "colab_type": "text"
      },
      "source": [
        "<a href=\"https://colab.research.google.com/github/c7934597/Python_Basic_Practice/blob/master/lambda.ipynb\" target=\"_parent\"><img src=\"https://colab.research.google.com/assets/colab-badge.svg\" alt=\"Open In Colab\"/></a>"
      ]
    },
    {
      "cell_type": "code",
      "metadata": {
        "id": "BF-tuh3m2eXC",
        "colab_type": "code",
        "outputId": "c922f606-de74-477f-96fc-b7cfb4f21faa",
        "colab": {
          "base_uri": "https://localhost:8080/",
          "height": 69
        }
      },
      "source": [
        "'''\n",
        "先來看看 lambda 的簡單例子，關鍵字 lambda 後面空一格，接上需要使用的變數 (variable) 名稱，\n",
        "變數名稱可以自訂，這裡用英文小寫字母 x ，然後加上冒號，後面接上運算式，\n",
        "這裡把 lambda 運算式指派給變數 a ，最後兩行直接用 a 進行計算，其中參數 (parameter) 會代入 x 中\n",
        "'''\n",
        "\n",
        "a = lambda x: x ** 5 + 2\n",
        "print(a)\n",
        "print(a(2))\n",
        "print(a(12))"
      ],
      "execution_count": 0,
      "outputs": [
        {
          "output_type": "stream",
          "text": [
            "<function <lambda> at 0x7fd996c43598>\n",
            "34\n",
            "248834\n"
          ],
          "name": "stdout"
        }
      ]
    },
    {
      "cell_type": "code",
      "metadata": {
        "id": "Igig100T7YFd",
        "colab_type": "code",
        "outputId": "b41b24db-0fc3-44e1-db97-8301a58bcc11",
        "colab": {
          "base_uri": "https://localhost:8080/",
          "height": 52
        }
      },
      "source": [
        "'''\n",
        "函數的回傳值 (return value) 可以直接回傳 lambda 運算式，注意這裡 c 的參數同樣會被代入 lambda 的 x 中\n",
        "'''\n",
        "\n",
        "def b():\n",
        "    return lambda x: x + 2\n",
        "\n",
        "c = b()\n",
        "print(c)\n",
        "print(c(18))"
      ],
      "execution_count": 0,
      "outputs": [
        {
          "output_type": "stream",
          "text": [
            "<function b.<locals>.<lambda> at 0x7fd996c43730>\n",
            "20\n"
          ],
          "name": "stdout"
        }
      ]
    },
    {
      "cell_type": "code",
      "metadata": {
        "id": "ENxBEuac7lam",
        "colab_type": "code",
        "outputId": "c98f09f2-916d-410a-92cd-9776b0119a9e",
        "colab": {
          "base_uri": "https://localhost:8080/",
          "height": 52
        }
      },
      "source": [
        "'''\n",
        "下面函數 c 的參數 n 只會在函數定義內發生作用，因此下面繼續用變數 d 取得函數 c 以整數 12 的 lambda 運算式回傳值，往後 d 的參數只會代入 lambda 運算式中的 x\n",
        "'''\n",
        "\n",
        "def c(n):\n",
        "    return lambda x: x + n\n",
        "\n",
        "d = c(12)\n",
        "print(d(5))\n",
        "print(d(18))"
      ],
      "execution_count": 0,
      "outputs": [
        {
          "output_type": "stream",
          "text": [
            "17\n",
            "30\n"
          ],
          "name": "stdout"
        }
      ]
    },
    {
      "cell_type": "code",
      "metadata": {
        "id": "dXOt0p0b8Mla",
        "colab_type": "code",
        "outputId": "0a126c92-e3a6-4d8f-9421-c849a56f8dc4",
        "colab": {
          "base_uri": "https://localhost:8080/",
          "height": 35
        }
      },
      "source": [
        "'''\n",
        "lambda 運算式最常用到的就是需要函數當參數的地方，例如內建函數 (built-in function) filter() 利用設定好的條件過濾序列 (sequence) 中的元素，\n",
        "所謂設定好的條件就是指函數，這邊可以用 lambda 運算式代入， \n",
        "filter() 的第一個參數就是 lambda 運算式，結果會把串列 (list) e 中大於 10 的元素放到串列 f 中\n",
        "'''\n",
        "\n",
        "e = [1, 7, 13, 19, 25]\n",
        "f = []\n",
        "for i in filter(lambda x: x > 10, e):\n",
        "    f.append(i)\n",
        "print(f)"
      ],
      "execution_count": 0,
      "outputs": [
        {
          "output_type": "stream",
          "text": [
            "[13, 19, 25]\n"
          ],
          "name": "stdout"
        }
      ]
    },
    {
      "cell_type": "code",
      "metadata": {
        "id": "wXYPtRMHDAqw",
        "colab_type": "code",
        "outputId": "66854b42-4d91-4831-9843-19b1480373a4",
        "colab": {
          "base_uri": "https://localhost:8080/",
          "height": 35
        }
      },
      "source": [
        "'''\n",
        "另一個內建函數 map() 則是把序列中的元素做相對應的處理，處理方式也就是函數，此例也是用 lambda 運算式代入，\n",
        "同樣 map() 的第一個參數就是 lambda 運算式，結果會把串列 g 中的元素乘以 2 再加 10 ，最後放在串列 h 中\n",
        "'''\n",
        "\n",
        "g = [3, 1, 89, 22, 13]\n",
        "h = []\n",
        "for i in map(lambda x: x * 2 + 10, g):\n",
        "    h.append(i)\n",
        "print(h)"
      ],
      "execution_count": 0,
      "outputs": [
        {
          "output_type": "stream",
          "text": [
            "[16, 12, 188, 54, 36]\n"
          ],
          "name": "stdout"
        }
      ]
    }
  ]
}
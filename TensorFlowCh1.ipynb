{
  "nbformat": 4,
  "nbformat_minor": 0,
  "metadata": {
    "colab": {
      "name": "TensorFlowCh1.ipynb",
      "version": "0.3.2",
      "provenance": [],
      "collapsed_sections": [],
      "include_colab_link": true
    },
    "kernelspec": {
      "name": "python3",
      "display_name": "Python 3"
    }
  },
  "cells": [
    {
      "cell_type": "markdown",
      "metadata": {
        "id": "view-in-github",
        "colab_type": "text"
      },
      "source": [
        "<a href=\"https://colab.research.google.com/github/c7934597/Python_Basic_Practice/blob/master/TensorFlowCh1.ipynb\" target=\"_parent\"><img src=\"https://colab.research.google.com/assets/colab-badge.svg\" alt=\"Open In Colab\"/></a>"
      ]
    },
    {
      "cell_type": "code",
      "metadata": {
        "id": "y3mBs25HwXI5",
        "colab_type": "code",
        "outputId": "2d88412c-e592-4450-8cf3-8f3c96e45e2d",
        "colab": {
          "base_uri": "https://localhost:8080/",
          "height": 35
        }
      },
      "source": [
        "import tensorflow as tf\n",
        "\n",
        "# constant可以視為tf專用的變數型態\n",
        "# 其他包括Variable，placeholder\n",
        "A = tf.constant('Hello World!')\n",
        "\n",
        "# 使用 with 可以讓Session自動關閉\n",
        "with tf.Session() as sess:\n",
        "\n",
        "    # 在 tensorflow內要使用run，才會讓計算圖開始執行\n",
        "    B = sess.run(A)\n",
        "\n",
        "    print(B)"
      ],
      "execution_count": 0,
      "outputs": [
        {
          "output_type": "stream",
          "text": [
            "b'Hello World!'\n"
          ],
          "name": "stdout"
        }
      ]
    },
    {
      "cell_type": "code",
      "metadata": {
        "id": "PESs2SfRjoPp",
        "colab_type": "code",
        "outputId": "a7a14206-d30d-407b-9f14-276d713b5dc2",
        "colab": {
          "base_uri": "https://localhost:8080/",
          "height": 52
        }
      },
      "source": [
        "'''\n",
        "TensorFlow 的架構下，幾個常用的資料型態：constant、Variable、Placeholder。\n",
        "tf.constant\n",
        "這代表常數，給定初始值之後即無法再更改\n",
        "'''\n",
        "\n",
        "# -*- coding: utf-8 -*-\n",
        "\n",
        "import tensorflow as tf\n",
        "\n",
        "# 宣告常數\n",
        "A = tf.constant(10, dtype=tf.int64)\n",
        "\n",
        "with tf.Session() as sess:\n",
        "    print( A ) \n",
        "    # Tensor(\"Const_42:0\", shape=(), dtype=int64)\n",
        "    \n",
        "    print( sess.run(A) ) \n",
        "    # 10\n",
        "\n",
        "    # 使用 sess.run() 才能取得 A 的值"
      ],
      "execution_count": 0,
      "outputs": [
        {
          "output_type": "stream",
          "text": [
            "Tensor(\"Const_1:0\", shape=(), dtype=int64)\n",
            "10\n"
          ],
          "name": "stdout"
        }
      ]
    },
    {
      "cell_type": "code",
      "metadata": {
        "id": "fEzyS0ZljyNK",
        "colab_type": "code",
        "outputId": "c1d35ff7-c28d-4be6-fc8c-46505c88664e",
        "colab": {
          "base_uri": "https://localhost:8080/",
          "height": 104
        }
      },
      "source": [
        "'''\n",
        "tf.Variable\n",
        "這代表變數，以下展示如何用它來顯示 0 ~ 4。\n",
        "您可以不斷地更改變數的值，直到您滿意為止。\n",
        "'''\n",
        "\n",
        "'''\n",
        "其中，請特別注意 assign 這個函數，此函數需要經過 sess.run() 之後，才會賦予新值。\n",
        "若是把上面的迴圈改成這樣：\n",
        "\n",
        "for i in range(5):\n",
        "    B.assign(i)\n",
        "    print( sess.run(B) )\n",
        "這樣 B 值是不會改變的，因為 assign 未被執行。\n",
        "這裡非常容易用錯，請小心。\n",
        "'''\n",
        "\n",
        "# -*- coding: utf-8 -*-\n",
        "\n",
        "import tensorflow as tf\n",
        "\n",
        "# 宣告變數    \n",
        "B = tf.Variable(0, dtype=tf.int64)\n",
        "with tf.Session() as sess:\n",
        "    # 變數需要初始化\n",
        "    sess.run( tf.global_variables_initializer() )\n",
        "\n",
        "    # 使用 assign 更改變數值\n",
        "    for i in range(5):\n",
        "        print( sess.run(B.assign(i)) )"
      ],
      "execution_count": 0,
      "outputs": [
        {
          "output_type": "stream",
          "text": [
            "0\n",
            "1\n",
            "2\n",
            "3\n",
            "4\n"
          ],
          "name": "stdout"
        }
      ]
    },
    {
      "cell_type": "code",
      "metadata": {
        "id": "AaIP75YRktRk",
        "colab_type": "code",
        "outputId": "bef97722-4254-4ac6-c1d8-f018c0707901",
        "colab": {
          "base_uri": "https://localhost:8080/",
          "height": 104
        }
      },
      "source": [
        "'''\n",
        "tf.placeholder\n",
        "占位符\n",
        "其實這只是 TensorFlow 為了讓我們更方便的導入資料而設計的函數。\n",
        "占位符可以使用 feed_dict 來賦值\n",
        "'''\n",
        "\n",
        "# -*- coding: utf-8 -*-\n",
        "\n",
        "import tensorflow as tf\n",
        "\n",
        "# 宣告占位符\n",
        "C = tf.placeholder(dtype=tf.int64)\n",
        "\n",
        "with tf.Session() as sess:\n",
        "    for i in range(5):\n",
        "        result = sess.run(C, feed_dict={C:i})\n",
        "        print(result)"
      ],
      "execution_count": 0,
      "outputs": [
        {
          "output_type": "stream",
          "text": [
            "0\n",
            "1\n",
            "2\n",
            "3\n",
            "4\n"
          ],
          "name": "stdout"
        }
      ]
    },
    {
      "cell_type": "code",
      "metadata": {
        "id": "JLgj8TUSlOl6",
        "colab_type": "code",
        "outputId": "5fa32a0e-8d2b-46cd-862d-7f4fe5bd8b30",
        "colab": {
          "base_uri": "https://localhost:8080/",
          "height": 52
        }
      },
      "source": [
        "# -*- coding: utf-8 -*-\n",
        "\n",
        "import tensorflow as tf\n",
        "\n",
        "# 宣告占位符\n",
        "C = tf.placeholder(dtype=tf.int64)\n",
        "D = tf.placeholder(dtype=tf.int64)\n",
        "E = tf.placeholder(dtype=tf.int64)\n",
        "\n",
        "F = D + E # 這三個必須要填充\n",
        "\n",
        "with tf.Session() as sess:\n",
        "    # 可以一次填充所有的占位符\n",
        "    result = sess.run(F, feed_dict={C:10, D:20, E:30})\n",
        "    print(result) # 50\n",
        "    \n",
        "    # 或者只填充計算所需要的\n",
        "    result = sess.run(F, feed_dict={D:20, E:30})\n",
        "    print(result) # 50\n",
        "    \n",
        "    '''\n",
        "    # 這段程式會使系統報錯！\n",
        "    # 計算所需的占位符不能為空，每次執行 sess.run() 都要填充，\n",
        "    # 占位符不是變數，不會留存上次填充的資料。\n",
        "    result = sess.run(F, feed_dict={E:30})\n",
        "    print(result)\n",
        "    '''"
      ],
      "execution_count": 0,
      "outputs": [
        {
          "output_type": "stream",
          "text": [
            "50\n",
            "50\n"
          ],
          "name": "stdout"
        }
      ]
    },
    {
      "cell_type": "code",
      "metadata": {
        "id": "ohBb7NtznJsj",
        "colab_type": "code",
        "outputId": "009aac9a-aaa8-4832-de5a-39a61046dcb9",
        "colab": {
          "base_uri": "https://localhost:8080/",
          "height": 35
        }
      },
      "source": [
        "'''\n",
        "想要使用 TensorBoard 來展示自己所設計的架構，需要幾個步驟：\n",
        "\n",
        "1. 把欲顯示出來的步驟使用 \" tf.name_scope \" 包起來。\n",
        "2. 接著使用 tf.summary.FileWriter 函數輸出到目標資料夾。\n",
        "'''\n",
        "\n",
        "import tensorflow as tf\n",
        "\n",
        "tf.reset_default_graph()\n",
        "\n",
        "# 宣告常數A&B，後面的name參數，是要繪製tensorboard時所使用的名稱。\n",
        "# 若沒有指定，或是重複名稱，則tensorboard會自動修改。\n",
        "A = tf.constant(50, name='const_A')\n",
        "B = tf.constant(100, name='const_B')\n",
        "\n",
        "with tf.Session() as sess:\n",
        "    # 就是這邊！\n",
        "    # 使用 \"with tf.name_scope('Run'):\" 這句話可以畫出Run這個步驟。\n",
        "    with tf.name_scope('Run'):\n",
        "        B = sess.run(A+B)\n",
        "    print(B)\n",
        "    \n",
        "    # 畫好步驟之後，要使用\"tf.summary.FileWriter\"把檔案寫到目標資料夾，\n",
        "    # 第二個參數表示要把整個圖層放到graph參數內，這樣才能用tensorboard畫出來。\n",
        "    train_writer = tf.summary.FileWriter('./log', sess.graph)\n",
        "    train_writer.close()"
      ],
      "execution_count": 0,
      "outputs": [
        {
          "output_type": "stream",
          "text": [
            "150\n"
          ],
          "name": "stdout"
        }
      ]
    },
    {
      "cell_type": "code",
      "metadata": {
        "id": "GLFnEaKCGfL6",
        "colab_type": "code",
        "outputId": "589e428a-1da0-41c3-b09c-3764cc56f854",
        "colab": {
          "base_uri": "https://localhost:8080/",
          "height": 35
        }
      },
      "source": [
        "import tensorflow as tf\n",
        "\n",
        "tf.reset_default_graph()\n",
        "\n",
        "A = tf.constant(50, name='const_A')\n",
        "B = tf.constant(100, name='const_B')\n",
        "\n",
        "with tf.name_scope('Add'):\n",
        "    C = A+B\n",
        "\n",
        "with tf.Session() as sess:\n",
        "    with tf.name_scope('Run'):\n",
        "        D = sess.run(C*3)\n",
        "    print(D)\n",
        "\n",
        "    train_writer = tf.summary.FileWriter('./log', sess.graph)\n",
        "    train_writer.close()"
      ],
      "execution_count": 0,
      "outputs": [
        {
          "output_type": "stream",
          "text": [
            "450\n"
          ],
          "name": "stdout"
        }
      ]
    },
    {
      "cell_type": "code",
      "metadata": {
        "id": "wrAwvKe8DOf8",
        "colab_type": "code",
        "outputId": "0e126f29-a8bc-43e4-d442-004640f1438a",
        "colab": {
          "base_uri": "https://localhost:8080/",
          "height": 243
        }
      },
      "source": [
        "'''\n",
        "https://john850512.wordpress.com/2018/07/13/7-13colab%E4%BB%8B%E7%B4%B9-%E5%A6%82%E4%BD%95%E5%9C%A8colab%E4%B8%8A%E4%BD%BF%E7%94%A8tensorboard/\n",
        "Step1. 在Colab下下載Ngrok，在前面加上!就可以使用linux下的command\n",
        "'''\n",
        "\n",
        "!wget https://bin.equinox.io/c/4VmDzA7iaHb/ngrok-stable-linux-amd64.zip\n",
        "!unzip ngrok-stable-linux-amd64.zip"
      ],
      "execution_count": 0,
      "outputs": [
        {
          "output_type": "stream",
          "text": [
            "--2019-07-28 14:47:28--  https://bin.equinox.io/c/4VmDzA7iaHb/ngrok-stable-linux-amd64.zip\n",
            "Resolving bin.equinox.io (bin.equinox.io)... 3.92.108.98, 52.72.245.79, 35.173.3.255, ...\n",
            "Connecting to bin.equinox.io (bin.equinox.io)|3.92.108.98|:443... connected.\n",
            "HTTP request sent, awaiting response... 200 OK\n",
            "Length: 13607069 (13M) [application/octet-stream]\n",
            "Saving to: ‘ngrok-stable-linux-amd64.zip’\n",
            "\n",
            "ngrok-stable-linux- 100%[===================>]  12.98M  18.9MB/s    in 0.7s    \n",
            "\n",
            "2019-07-28 14:47:29 (18.9 MB/s) - ‘ngrok-stable-linux-amd64.zip’ saved [13607069/13607069]\n",
            "\n",
            "Archive:  ngrok-stable-linux-amd64.zip\n",
            "  inflating: ngrok                   \n"
          ],
          "name": "stdout"
        }
      ]
    },
    {
      "cell_type": "code",
      "metadata": {
        "id": "28VoTXoADbj7",
        "colab_type": "code",
        "colab": {}
      },
      "source": [
        "'''\n",
        "Step2.指定訓練過程的紀錄檔(logdir)要存放在virtual machine下的哪個位置，並開啟tensorboard service(port 6006)\n",
        "'''\n",
        "\n",
        "LOG_DIR = './log'\n",
        "get_ipython().system_raw(\n",
        "'tensorboard --logdir {} --host 0.0.0.0 --port 6006 &'\n",
        ".format(LOG_DIR)\n",
        ")"
      ],
      "execution_count": 0,
      "outputs": []
    },
    {
      "cell_type": "code",
      "metadata": {
        "id": "V-udvWRDDtA4",
        "colab_type": "code",
        "colab": {}
      },
      "source": [
        "'''\n",
        "Step3.開啟ngrok service，並綁定port 6006(tensorboard)\n",
        "'''\n",
        "\n",
        "get_ipython().system_raw('./ngrok http 6006 &')"
      ],
      "execution_count": 0,
      "outputs": []
    },
    {
      "cell_type": "code",
      "metadata": {
        "id": "dPN3W_1SDygU",
        "colab_type": "code",
        "outputId": "3b9fddcf-820c-497d-f237-11f06f807114",
        "colab": {
          "base_uri": "https://localhost:8080/",
          "height": 35
        }
      },
      "source": [
        "'''\n",
        "Step4.產生一組網址，這組接下來只要從外部連到這組網址，就會導向virtual machine的port 6006，也就是colab裝置內的tensorboard了！\n",
        "'''\n",
        "\n",
        "! curl -s http://localhost:4040/api/tunnels | python3 -c \\\n",
        "\"import sys, json; print(json.load(sys.stdin)['tunnels'][0]['public_url'])\""
      ],
      "execution_count": 0,
      "outputs": [
        {
          "output_type": "stream",
          "text": [
            "https://884df9f6.ngrok.io\n"
          ],
          "name": "stdout"
        }
      ]
    }
  ]
}
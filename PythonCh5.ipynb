{
  "nbformat": 4,
  "nbformat_minor": 0,
  "metadata": {
    "colab": {
      "name": "PythonCh5.ipynb",
      "version": "0.3.2",
      "provenance": [],
      "collapsed_sections": [],
      "include_colab_link": true
    },
    "kernelspec": {
      "name": "python3",
      "display_name": "Python 3"
    }
  },
  "cells": [
    {
      "cell_type": "markdown",
      "metadata": {
        "id": "view-in-github",
        "colab_type": "text"
      },
      "source": [
        "<a href=\"https://colab.research.google.com/github/c7934597/Python_Numpy_Basic_Practice/blob/master/PythonCh5.ipynb\" target=\"_parent\"><img src=\"https://colab.research.google.com/assets/colab-badge.svg\" alt=\"Open In Colab\"/></a>"
      ]
    },
    {
      "cell_type": "code",
      "metadata": {
        "id": "Ng9uLSlPKyc5",
        "colab_type": "code",
        "outputId": "8b86f0cd-b857-4af3-c57c-e20a1290dcbd",
        "colab": {
          "base_uri": "https://localhost:8080/",
          "height": 35
        }
      },
      "source": [
        "my_list = [1, 2, 3, 4, 5, 6, 7, 8, 9, 9, 9, 10, 100]\n",
        "print(my_list)"
      ],
      "execution_count": 0,
      "outputs": [
        {
          "output_type": "stream",
          "text": [
            "[1, 2, 3, 4, 5, 6, 7, 8, 9, 9, 9, 10, 100]\n"
          ],
          "name": "stdout"
        }
      ]
    },
    {
      "cell_type": "code",
      "metadata": {
        "id": "4DZQGflhM0g2",
        "colab_type": "code",
        "outputId": "e6ce8265-e289-4a77-f3ee-30331d377a62",
        "colab": {
          "base_uri": "https://localhost:8080/",
          "height": 69
        }
      },
      "source": [
        "'''\n",
        "list.append(element)\n",
        "將元素x加入至list的尾端，等同於語法『 list[len(list):] = [x] 』\n",
        "'''\n",
        "\n",
        "my_list.append(777)\n",
        "print(my_list)\n",
        "\n",
        "my_list[len(my_list):] = [9]\n",
        "print(my_list)\n",
        "\n",
        "my_list.append([1, 1, 1, 1])\n",
        "print(my_list)"
      ],
      "execution_count": 0,
      "outputs": [
        {
          "output_type": "stream",
          "text": [
            "[1, 2, 3, 4, 5, 6, 7, 8, 9, 9, 9, 10, 100, 777]\n",
            "[1, 2, 3, 4, 5, 6, 7, 8, 9, 9, 9, 10, 100, 777, 9]\n",
            "[1, 2, 3, 4, 5, 6, 7, 8, 9, 9, 9, 10, 100, 777, 9, [1, 1, 1, 1]]\n"
          ],
          "name": "stdout"
        }
      ]
    },
    {
      "cell_type": "code",
      "metadata": {
        "id": "syPC4f7OSaw7",
        "colab_type": "code",
        "outputId": "63dd82f4-25c7-4866-9f84-c073460cd40e",
        "colab": {
          "base_uri": "https://localhost:8080/",
          "height": 35
        }
      },
      "source": [
        "'''\n",
        "list.extend(L)\n",
        "將L這個List增加至list之中，等同於語法『 list[len(list):] = L 』\n",
        "'''\n",
        "\n",
        "your_list = [0, 0, 0, 0, 0]\n",
        "#將my_list的內容增加至your_list之後\n",
        "your_list.extend(my_list)\n",
        "print(your_list)"
      ],
      "execution_count": 0,
      "outputs": [
        {
          "output_type": "stream",
          "text": [
            "[0, 0, 0, 0, 0, 1, 2, 3, 4, 5, 6, 7, 8, 9, 9, 9, 10, 100, 777, 9, [1, 1, 1, 1]]\n"
          ],
          "name": "stdout"
        }
      ]
    },
    {
      "cell_type": "code",
      "metadata": {
        "id": "mmvfAlgYTxPi",
        "colab_type": "code",
        "outputId": "5f896935-de2b-4261-8be2-82540aa749bf",
        "colab": {
          "base_uri": "https://localhost:8080/",
          "height": 35
        }
      },
      "source": [
        "'''\n",
        "list.insert(i, element)\n",
        "將element插入至第 i 個index的位置\n",
        "'''\n",
        "\n",
        "#將元素[9]插入至your_list位置第5的地方\n",
        "your_list.insert(5, 9)\n",
        "#印出結果\n",
        "print(your_list)"
      ],
      "execution_count": 0,
      "outputs": [
        {
          "output_type": "stream",
          "text": [
            "[0, 0, 0, 0, 0, 9, 1, 2, 3, 4, 5, 6, 7, 8, 9, 9, 9, 10, 100, 777, 9, [1, 1, 1, 1]]\n"
          ],
          "name": "stdout"
        }
      ]
    },
    {
      "cell_type": "code",
      "metadata": {
        "id": "Tv8e7ZvUUApI",
        "colab_type": "code",
        "outputId": "67402566-0ecd-42f4-ef1a-5659d5a2d136",
        "colab": {
          "base_uri": "https://localhost:8080/",
          "height": 52
        }
      },
      "source": [
        "'''\n",
        "list.remove(value)\n",
        "刪除list中特定元素值的第一個元素\n",
        "'''\n",
        "\n",
        "#把your_list的第1個值為9的元素刪除\n",
        "your_list.remove(9)\n",
        "print(your_list)\n",
        "\n",
        "your_list.remove([1, 1, 1, 1])\n",
        "print(your_list)"
      ],
      "execution_count": 0,
      "outputs": [
        {
          "output_type": "stream",
          "text": [
            "[0, 0, 0, 0, 0, 1, 2, 3, 4, 5, 6, 7, 8, 9, 9, 9, 10, 100, 777, 9, [1, 1, 1, 1]]\n",
            "[0, 0, 0, 0, 0, 1, 2, 3, 4, 5, 6, 7, 8, 9, 9, 9, 10, 100, 777, 9]\n"
          ],
          "name": "stdout"
        }
      ]
    },
    {
      "cell_type": "code",
      "metadata": {
        "id": "fhs-qEE2Ufw4",
        "colab_type": "code",
        "outputId": "2514b83e-210e-4860-df3d-4a6b2b2b2ec2",
        "colab": {
          "base_uri": "https://localhost:8080/",
          "height": 69
        }
      },
      "source": [
        "'''\n",
        "list.pop(i)\n",
        "取出list中指定第 i 個元素，並且將該元素刪除\n",
        "list.pop()\n",
        "取出list中最尾端的元素，並且將該元素刪除(像是堆疊Stack那樣)\n",
        "在實務應用上可以用一個變數來接收pop出來的元素喔！\n",
        "'''\n",
        "\n",
        "your_list.pop(17)\n",
        "print(your_list)\n",
        "\n",
        "my_pop = your_list.pop()\n",
        "print(my_pop)\n",
        "print(your_list)"
      ],
      "execution_count": 0,
      "outputs": [
        {
          "output_type": "stream",
          "text": [
            "[0, 0, 0, 0, 0, 1, 2, 3, 4, 5, 6, 7, 8, 9, 9, 9, 10, 777, 9]\n",
            "9\n",
            "[0, 0, 0, 0, 0, 1, 2, 3, 4, 5, 6, 7, 8, 9, 9, 9, 10, 777]\n"
          ],
          "name": "stdout"
        }
      ]
    },
    {
      "cell_type": "code",
      "metadata": {
        "id": "t-yVHh-YVRk7",
        "colab_type": "code",
        "outputId": "784210dc-9777-43b3-97db-4f22dd202e4b",
        "colab": {
          "base_uri": "https://localhost:8080/",
          "height": 52
        }
      },
      "source": [
        "'''\n",
        "list.index(value)\n",
        "找出特定元素值的第一個位置(index)\n",
        "'''\n",
        "\n",
        "print(your_list)\n",
        "your_list.index(9)"
      ],
      "execution_count": 0,
      "outputs": [
        {
          "output_type": "stream",
          "text": [
            "[0, 0, 0, 0, 0, 1, 2, 3, 4, 5, 6, 7, 8, 9, 9, 9, 10, 777]\n"
          ],
          "name": "stdout"
        },
        {
          "output_type": "execute_result",
          "data": {
            "text/plain": [
              "13"
            ]
          },
          "metadata": {
            "tags": []
          },
          "execution_count": 7
        }
      ]
    },
    {
      "cell_type": "code",
      "metadata": {
        "id": "Lf3KOaiVVbQB",
        "colab_type": "code",
        "outputId": "c2e28d0f-f24e-45e0-b477-4773704f4c5f",
        "colab": {
          "base_uri": "https://localhost:8080/",
          "height": 52
        }
      },
      "source": [
        "'''\n",
        "list.count(value)\n",
        "列出特定元素值的元素數量\n",
        "'''\n",
        "\n",
        "print(your_list)\n",
        "your_list.count(9)"
      ],
      "execution_count": 0,
      "outputs": [
        {
          "output_type": "stream",
          "text": [
            "[0, 0, 0, 0, 0, 1, 2, 3, 4, 5, 6, 7, 8, 9, 9, 9, 10, 777]\n"
          ],
          "name": "stdout"
        },
        {
          "output_type": "execute_result",
          "data": {
            "text/plain": [
              "3"
            ]
          },
          "metadata": {
            "tags": []
          },
          "execution_count": 8
        }
      ]
    },
    {
      "cell_type": "code",
      "metadata": {
        "id": "o3K2LWUKVlq6",
        "colab_type": "code",
        "outputId": "04275809-9b92-4a07-ae49-47eeb11314d6",
        "colab": {
          "base_uri": "https://localhost:8080/",
          "height": 69
        }
      },
      "source": [
        "'''\n",
        "list.sort()\n",
        "將list由小至大排序\n",
        "list.reverse()\n",
        "將list由大至小排序\n",
        "'''\n",
        "\n",
        "your_list.insert(2, 55)\n",
        "print(your_list)\n",
        "\n",
        "your_list.sort()\n",
        "print(your_list)\n",
        "\n",
        "your_list.reverse()\n",
        "print(your_list)"
      ],
      "execution_count": 0,
      "outputs": [
        {
          "output_type": "stream",
          "text": [
            "[0, 0, 55, 0, 0, 0, 1, 2, 3, 4, 5, 6, 7, 8, 9, 9, 9, 10, 777]\n",
            "[0, 0, 0, 0, 0, 1, 2, 3, 4, 5, 6, 7, 8, 9, 9, 9, 10, 55, 777]\n",
            "[777, 55, 10, 9, 9, 9, 8, 7, 6, 5, 4, 3, 2, 1, 0, 0, 0, 0, 0]\n"
          ],
          "name": "stdout"
        }
      ]
    },
    {
      "cell_type": "code",
      "metadata": {
        "id": "5N6wiBD7WQzP",
        "colab_type": "code",
        "outputId": "c0d156d3-5207-41c7-fe0b-403befc467ae",
        "colab": {
          "base_uri": "https://localhost:8080/",
          "height": 35
        }
      },
      "source": [
        "'''\n",
        "list.copy()\n",
        "拷貝一個list\n",
        "'''\n",
        "\n",
        "#拷貝your_list給my_copy\n",
        "my_copy = your_list.copy()\n",
        "print(my_copy)"
      ],
      "execution_count": 0,
      "outputs": [
        {
          "output_type": "stream",
          "text": [
            "[777, 55, 10, 9, 9, 9, 8, 7, 6, 5, 4, 3, 2, 1, 0, 0, 0, 0, 0]\n"
          ],
          "name": "stdout"
        }
      ]
    },
    {
      "cell_type": "code",
      "metadata": {
        "id": "VJMnc_HMWcgi",
        "colab_type": "code",
        "outputId": "296088f8-3aaa-408a-afef-5d95df98a176",
        "colab": {
          "base_uri": "https://localhost:8080/",
          "height": 35
        }
      },
      "source": [
        "'''\n",
        "list.clear()\n",
        "清除list內所有資料\n",
        "'''\n",
        "\n",
        "my_copy.clear()\n",
        "print(my_copy)"
      ],
      "execution_count": 0,
      "outputs": [
        {
          "output_type": "stream",
          "text": [
            "[]\n"
          ],
          "name": "stdout"
        }
      ]
    },
    {
      "cell_type": "code",
      "metadata": {
        "id": "BYvr49RQW0me",
        "colab_type": "code",
        "outputId": "a4adbc68-1e89-4bb4-be7c-0ef57954cf51",
        "colab": {
          "base_uri": "https://localhost:8080/",
          "height": 235
        }
      },
      "source": [
        "t = (1, 2, 3, 4, 5)\n",
        "print(t)\n",
        "\n",
        "print(t[0])\n",
        "\n",
        "#嘗試修改Tuple的內容就會出錯！\n",
        "t[2] = 9"
      ],
      "execution_count": 0,
      "outputs": [
        {
          "output_type": "stream",
          "text": [
            "(1, 2, 3, 4, 5)\n",
            "1\n"
          ],
          "name": "stdout"
        },
        {
          "output_type": "error",
          "ename": "TypeError",
          "evalue": "ignored",
          "traceback": [
            "\u001b[0;31m---------------------------------------------------------------------------\u001b[0m",
            "\u001b[0;31mTypeError\u001b[0m                                 Traceback (most recent call last)",
            "\u001b[0;32m<ipython-input-12-9e77afeb9a42>\u001b[0m in \u001b[0;36m<module>\u001b[0;34m()\u001b[0m\n\u001b[1;32m      5\u001b[0m \u001b[0;34m\u001b[0m\u001b[0m\n\u001b[1;32m      6\u001b[0m \u001b[0;31m#嘗試修改Tuple的內容就會出錯！\u001b[0m\u001b[0;34m\u001b[0m\u001b[0;34m\u001b[0m\u001b[0;34m\u001b[0m\u001b[0m\n\u001b[0;32m----> 7\u001b[0;31m \u001b[0mt\u001b[0m\u001b[0;34m[\u001b[0m\u001b[0;36m2\u001b[0m\u001b[0;34m]\u001b[0m \u001b[0;34m=\u001b[0m \u001b[0;36m9\u001b[0m\u001b[0;34m\u001b[0m\u001b[0;34m\u001b[0m\u001b[0m\n\u001b[0m",
            "\u001b[0;31mTypeError\u001b[0m: 'tuple' object does not support item assignment"
          ]
        }
      ]
    },
    {
      "cell_type": "code",
      "metadata": {
        "id": "3VIeDVKVXCMA",
        "colab_type": "code",
        "outputId": "a37c601a-5c24-4a1b-bf18-9b2bc6adebbb",
        "colab": {
          "base_uri": "https://localhost:8080/",
          "height": 52
        }
      },
      "source": [
        "# list\n",
        "a = [1, 2, 3, 4]\n",
        "print(type(a))\n",
        " \n",
        "# convert a to tuple\n",
        "b = tuple(a)\n",
        "print(type(b))"
      ],
      "execution_count": 0,
      "outputs": [
        {
          "output_type": "stream",
          "text": [
            "<class 'list'>\n",
            "<class 'tuple'>\n"
          ],
          "name": "stdout"
        }
      ]
    },
    {
      "cell_type": "code",
      "metadata": {
        "id": "1ZCz3ORsX14z",
        "colab_type": "code",
        "outputId": "4a56ac89-e88d-4867-b70d-f126507026ab",
        "colab": {
          "base_uri": "https://localhost:8080/",
          "height": 35
        }
      },
      "source": [
        "'''\n",
        "set(element)\n",
        "用set()宣告集合！\n",
        "'''\n",
        "\n",
        "#宣告Set\n",
        "my_set = set(['Apple', 'Banana', 'Coconut', 'Banana', 'Dragon Fruit'])\n",
        "#Set會自動去除重複值\n",
        "print(my_set)"
      ],
      "execution_count": 0,
      "outputs": [
        {
          "output_type": "stream",
          "text": [
            "{'Apple', 'Coconut', 'Banana', 'Dragon Fruit'}\n"
          ],
          "name": "stdout"
        }
      ]
    },
    {
      "cell_type": "code",
      "metadata": {
        "id": "AI74N1dVYIIg",
        "colab_type": "code",
        "outputId": "6ed636ff-2b66-459f-d35f-9459396aa6c9",
        "colab": {
          "base_uri": "https://localhost:8080/",
          "height": 52
        }
      },
      "source": [
        "'''\n",
        "in\n",
        "確認元素是否存在於Set之中\n",
        "'''\n",
        "\n",
        "test1 = 'Apple' in my_set\n",
        "test2 = 'apple' in my_set\n",
        "\n",
        "print(test1)\n",
        "print(test2)"
      ],
      "execution_count": 0,
      "outputs": [
        {
          "output_type": "stream",
          "text": [
            "True\n",
            "False\n"
          ],
          "name": "stdout"
        }
      ]
    },
    {
      "cell_type": "code",
      "metadata": {
        "id": "CaxnH2rXYpPR",
        "colab_type": "code",
        "outputId": "528c63ce-f5cc-466d-dc04-b189707f83cc",
        "colab": {
          "base_uri": "https://localhost:8080/",
          "height": 69
        }
      },
      "source": [
        "'''\n",
        "差集(Difference)\n",
        "SetA – SetB，輸出結果為SetA有，而SetB沒有的元素\n",
        "'''\n",
        "\n",
        "my_set = set(['Apple', 'Banana', 'Coconut', 'Banana', 'Dragon Fruit'])\n",
        "your_set = set(['Coconut', 'Dragon Fruit'])\n",
        "print(my_set)\n",
        "print(your_set)\n",
        "\n",
        "#差集運算，列出my_set有，而your_set沒有的元素\n",
        "print(my_set - your_set)"
      ],
      "execution_count": 0,
      "outputs": [
        {
          "output_type": "stream",
          "text": [
            "{'Apple', 'Coconut', 'Banana', 'Dragon Fruit'}\n",
            "{'Coconut', 'Dragon Fruit'}\n",
            "{'Apple', 'Banana'}\n"
          ],
          "name": "stdout"
        }
      ]
    },
    {
      "cell_type": "code",
      "metadata": {
        "id": "4TjJCnTBZGBw",
        "colab_type": "code",
        "outputId": "cdd8e9bb-fc16-4ed0-e5f4-10adf5600491",
        "colab": {
          "base_uri": "https://localhost:8080/",
          "height": 69
        }
      },
      "source": [
        "'''\n",
        "聯集(Union)\n",
        "回傳兩個Set所有的元素\n",
        "'''\n",
        "\n",
        "print(my_set)\n",
        "print(your_set)\n",
        "\n",
        "#聯集運算\n",
        "print(my_set | your_set)"
      ],
      "execution_count": 0,
      "outputs": [
        {
          "output_type": "stream",
          "text": [
            "{'Apple', 'Coconut', 'Banana', 'Dragon Fruit'}\n",
            "{'Coconut', 'Dragon Fruit'}\n",
            "{'Coconut', 'Banana', 'Dragon Fruit', 'Apple'}\n"
          ],
          "name": "stdout"
        }
      ]
    },
    {
      "cell_type": "code",
      "metadata": {
        "id": "oOrrwZ4PZY1_",
        "colab_type": "code",
        "outputId": "1eee3044-6296-4ea7-ded8-89a7b8281e41",
        "colab": {
          "base_uri": "https://localhost:8080/",
          "height": 35
        }
      },
      "source": [
        "'''\n",
        "交集(Intersection)\n",
        "回傳兩個Set都要存在的元素\n",
        "'''\n",
        "\n",
        "print(my_set & your_set)"
      ],
      "execution_count": 0,
      "outputs": [
        {
          "output_type": "stream",
          "text": [
            "{'Coconut', 'Dragon Fruit'}\n"
          ],
          "name": "stdout"
        }
      ]
    },
    {
      "cell_type": "code",
      "metadata": {
        "id": "L-tO4xy7Zg__",
        "colab_type": "code",
        "outputId": "83f48b11-df9e-4073-f3a8-15e3bceadac9",
        "colab": {
          "base_uri": "https://localhost:8080/",
          "height": 35
        }
      },
      "source": [
        "'''\n",
        "對稱差集合(Symmetric Difference)\n",
        "這個原理有點複雜，點這裡看詳細解釋：Symmetric Difference(Wikipedia)\n",
        "但如果是只有兩個Set做運算的話，結果會是(SetA或SetB)而且(去除SetA、SetB都有的元素)！\n",
        "'''\n",
        "\n",
        "print(my_set ^ your_set)"
      ],
      "execution_count": 0,
      "outputs": [
        {
          "output_type": "stream",
          "text": [
            "{'Apple', 'Banana'}\n"
          ],
          "name": "stdout"
        }
      ]
    },
    {
      "cell_type": "code",
      "metadata": {
        "id": "fobieCCUZvRo",
        "colab_type": "code",
        "outputId": "e71fa606-7ecf-4c51-fc95-68ec2baab978",
        "colab": {
          "base_uri": "https://localhost:8080/",
          "height": 35
        }
      },
      "source": [
        "'''\n",
        "字典(Dictionary)，這算是很經典的資料結構之一。\n",
        "使用大括號宣告字典即可\n",
        "'''\n",
        "\n",
        "#宣告字典\n",
        "dict_fruit = {\"Apple\":16, \"Banana\":9, \"Coconut\":34, \"Dragon Fruit\":39}\n",
        "print(dict_fruit)"
      ],
      "execution_count": 0,
      "outputs": [
        {
          "output_type": "stream",
          "text": [
            "{'Apple': 16, 'Banana': 9, 'Coconut': 34, 'Dragon Fruit': 39}\n"
          ],
          "name": "stdout"
        }
      ]
    },
    {
      "cell_type": "code",
      "metadata": {
        "id": "Xtej-9V9Z-Yg",
        "colab_type": "code",
        "outputId": "ef6b88a5-3752-4b2d-d5cb-76eafdc1819a",
        "colab": {
          "base_uri": "https://localhost:8080/",
          "height": 35
        }
      },
      "source": [
        "'''\n",
        "修改數值\n",
        "'''\n",
        "\n",
        "#Apple修改為45\n",
        "dict_fruit['Apple'] = 45\n",
        "print(dict_fruit['Apple'])"
      ],
      "execution_count": 0,
      "outputs": [
        {
          "output_type": "stream",
          "text": [
            "45\n"
          ],
          "name": "stdout"
        }
      ]
    },
    {
      "cell_type": "code",
      "metadata": {
        "id": "qz3FqLUvaHpK",
        "colab_type": "code",
        "outputId": "4f696c51-a064-49ae-be68-745e3ad9e932",
        "colab": {
          "base_uri": "https://localhost:8080/",
          "height": 52
        }
      },
      "source": [
        "'''\n",
        "字典Key清單\n",
        "取出字典內的Key值\n",
        "'''\n",
        "\n",
        "keytest = dict_fruit.keys()\n",
        "print(keytest)\n",
        "\n",
        "#將字典的key值轉成一個List，且存入list_fruit變數中\n",
        "list_fruit = list(dict_fruit.keys())\n",
        "print(list_fruit)"
      ],
      "execution_count": 0,
      "outputs": [
        {
          "output_type": "stream",
          "text": [
            "dict_keys(['Apple', 'Banana', 'Coconut', 'Dragon Fruit'])\n",
            "['Apple', 'Banana', 'Coconut', 'Dragon Fruit']\n"
          ],
          "name": "stdout"
        }
      ]
    },
    {
      "cell_type": "code",
      "metadata": {
        "id": "vy22lLB5anxp",
        "colab_type": "code",
        "outputId": "d25a6905-9d28-4cb4-900e-2858edc44cea",
        "colab": {
          "base_uri": "https://localhost:8080/",
          "height": 35
        }
      },
      "source": [
        "'''\n",
        "確認字典是否存在某特定Key\n",
        "'''\n",
        "\n",
        "'Lemon' in dict_fruit"
      ],
      "execution_count": 0,
      "outputs": [
        {
          "output_type": "execute_result",
          "data": {
            "text/plain": [
              "False"
            ]
          },
          "metadata": {
            "tags": []
          },
          "execution_count": 34
        }
      ]
    },
    {
      "cell_type": "code",
      "metadata": {
        "id": "cW8XN2I5asRf",
        "colab_type": "code",
        "outputId": "9d67a111-b913-4a7a-c6d8-97af48348ed5",
        "colab": {
          "base_uri": "https://localhost:8080/",
          "height": 52
        }
      },
      "source": [
        "'''\n",
        "刪除字典裡的元素\n",
        "'''\n",
        "\n",
        "print(dict_fruit)\n",
        "\n",
        "#刪除「Banana」\n",
        "del dict_fruit['Banana']\n",
        "dict_fruit"
      ],
      "execution_count": 0,
      "outputs": [
        {
          "output_type": "stream",
          "text": [
            "{'Apple': 45, 'Banana': 9, 'Coconut': 34, 'Dragon Fruit': 39}\n"
          ],
          "name": "stdout"
        },
        {
          "output_type": "execute_result",
          "data": {
            "text/plain": [
              "{'Apple': 45, 'Coconut': 34, 'Dragon Fruit': 39}"
            ]
          },
          "metadata": {
            "tags": []
          },
          "execution_count": 35
        }
      ]
    },
    {
      "cell_type": "code",
      "metadata": {
        "id": "duK0Lb3Ja4lf",
        "colab_type": "code",
        "outputId": "2f05f86f-fa87-4213-a508-ece3986088d4",
        "colab": {
          "base_uri": "https://localhost:8080/",
          "height": 69
        }
      },
      "source": [
        "'''\n",
        "我們都知道List和Tuple最大的差異在於Tuple的內容是創建之後就無法修改的。\n",
        "但List & Tuple這兩個資料結構該怎麼運用呢？\n",
        "\n",
        "我相信Tuple的運用情境肯定比較困難，終於找到一個情境：\n",
        "\n",
        " \n",
        "\n",
        "用Tuple實作multi-key Dict\n",
        "'''\n",
        "\n",
        "key_val= {('andy','wang'): 'NCU', ('emily', 'chen'): 'NTU', ('john', 'tsai'): 'UCLA'}\n",
        "print(key_val.keys())\n",
        "print(key_val['andy', 'wang'])\n",
        "print(key_val['john', 'tsai'])"
      ],
      "execution_count": 0,
      "outputs": [
        {
          "output_type": "stream",
          "text": [
            "dict_keys([('andy', 'wang'), ('emily', 'chen'), ('john', 'tsai')])\n",
            "NCU\n",
            "UCLA\n"
          ],
          "name": "stdout"
        }
      ]
    }
  ]
}
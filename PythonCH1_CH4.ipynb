{
  "nbformat": 4,
  "nbformat_minor": 0,
  "metadata": {
    "colab": {
      "name": "PythonCH1-CH4-.ipynb",
      "version": "0.3.2",
      "provenance": [],
      "include_colab_link": true
    },
    "kernelspec": {
      "name": "python3",
      "display_name": "Python 3"
    }
  },
  "cells": [
    {
      "cell_type": "markdown",
      "metadata": {
        "id": "view-in-github",
        "colab_type": "text"
      },
      "source": [
        "<a href=\"https://colab.research.google.com/github/c7934597/Python-Numpy_Basic_Practice/blob/master/PythonCH1_CH4_.ipynb\" target=\"_parent\"><img src=\"https://colab.research.google.com/assets/colab-badge.svg\" alt=\"Open In Colab\"/></a>"
      ]
    },
    {
      "cell_type": "code",
      "metadata": {
        "id": "igbd-Rv1qrMd",
        "colab_type": "code",
        "outputId": "4cb00a05-8e99-4797-c9a7-ffb46eddc928",
        "colab": {
          "base_uri": "https://localhost:8080/",
          "height": 35
        }
      },
      "source": [
        "print('Hello Python!')"
      ],
      "execution_count": 1,
      "outputs": [
        {
          "output_type": "stream",
          "text": [
            "Hello Python!\n"
          ],
          "name": "stdout"
        }
      ]
    },
    {
      "cell_type": "code",
      "metadata": {
        "id": "4BU88GA66nYn",
        "colab_type": "code",
        "outputId": "b67fd4ff-9b82-4917-9289-ba0eef578c3a",
        "colab": {
          "base_uri": "https://localhost:8080/",
          "height": 156
        }
      },
      "source": [
        "# 確認物件\n",
        "\n",
        "'''\n",
        "bool 布林，分為 True、False 通常用於條件判斷\n",
        "int 整數，例如： 10、999999\n",
        "float 浮點數，係指有小數點的整數：1.222、1.0e7 等同於 10 的 7 次方\n",
        "string 字串，一串文字字元\n",
        "\n",
        "list 串列，用於儲存一系列序列資料（可以儲存不同資料型別），類似於其他程式語言的陣列但更為強大\n",
        "tuple 元組，類似於 list 串列，但不同的是 tuple 給定元素後不能改變\n",
        "dict 字典，和串列很像但不在乎元素順序，而且不會使用 0,1,…等的序列 index 來選擇項目，反之我們必須宣告唯一的 key 鍵值來對應想儲存的 value 值\n",
        "set 集合，集合就像是被移除 value 值的字典，只有保留 key 鍵值，也就是說 set 的內容元素都必須是獨一無二的\n",
        "'''\n",
        "\n",
        "print(True)\n",
        "print(101)\n",
        "print(3.14)\n",
        "print('happy coding')\n",
        "\n",
        "print(type(True))\n",
        "print(type(101))\n",
        "print(type(3.14))\n",
        "print(type('happy coding'))"
      ],
      "execution_count": 2,
      "outputs": [
        {
          "output_type": "stream",
          "text": [
            "True\n",
            "101\n",
            "3.14\n",
            "happy coding\n",
            "<class 'bool'>\n",
            "<class 'int'>\n",
            "<class 'float'>\n",
            "<class 'str'>\n"
          ],
          "name": "stdout"
        }
      ]
    },
    {
      "cell_type": "code",
      "metadata": {
        "id": "kTQ8AmEF7RDZ",
        "colab_type": "code",
        "outputId": "a8c6ca45-efcf-4eed-bb91-e98b22d43e8d",
        "colab": {
          "base_uri": "https://localhost:8080/",
          "height": 139
        }
      },
      "source": [
        "'''\n",
        "不可變物件（int, string, float, tuple），亦即若資料改變，會複製一份資料到新的記憶體空間然後資料更新，下面是一個簡單範例\n",
        "'''\n",
        "\n",
        "i = 101 # 宣告一個變數將 i 便條紙貼到 101 物件\n",
        "j = 101 # 宣告一個變數將 j 便條紙貼到 101 物件\n",
        "print(id(101)) # 印出 101 物件 id，可以想成是記憶體位置   \n",
        "\n",
        "print('i id:' + str(id(i))) # 印出 i 指向的 id，和 101 物件值相同\n",
        "print('j id:' + str(id(i))) # 印出 j 指向的 id，和 101 物件值相同\n",
        "print(i is j) # 因為兩者會貼到同一個物件所以會顯示相等，True\n",
        "j = j + 1 # 若資料改變，會複製一份資料到新的記憶體空間然後資料更新\n",
        "print('new i id:' + str(id(i))) # 印出一樣的 id\n",
        "print('new j id:' + str(id(j))) # 印出新的 id\n",
        "print(i is j) # 兩者指到不同的記憶體位置，False"
      ],
      "execution_count": 3,
      "outputs": [
        {
          "output_type": "stream",
          "text": [
            "10972000\n",
            "i id:10972000\n",
            "j id:10972000\n",
            "True\n",
            "new i id:10972000\n",
            "new j id:10972032\n",
            "False\n"
          ],
          "name": "stdout"
        }
      ]
    },
    {
      "cell_type": "code",
      "metadata": {
        "id": "xsx9KIzL-cor",
        "colab_type": "code",
        "outputId": "02f4cdf2-0620-4e68-c67c-7ab061f0e492",
        "colab": {
          "base_uri": "https://localhost:8080/",
          "height": 139
        }
      },
      "source": [
        "'''\n",
        "可變物件（list, dict, set），亦即若資料改變則直接在指向的記憶體空間改變資料，下面是一個簡單範例\n",
        "'''\n",
        "\n",
        "a = {} # 宣告一個變數指到一個空字典 dict\n",
        "b = a # 將 b 變數指到 a 同樣記憶體位置\n",
        "print(id(a)) # 印出 a 的 id \n",
        "print(a is b) # 兩者指到相同的記憶體位置，True\n",
        "a['a'] = 'python' # 改變 a 的鍵值\n",
        "print('id a:' + str(id(a))) # 印出 a id \n",
        "print('a:' + str(a)) # 印出內容值\n",
        "print('id b:' + str(id(b))) # 印出 b id，dict 為可變物件，印出 id 會和 a 一樣\n",
        "print('b:' + str(b)) # dict 為可變物件，印出內容值會和 a 一樣\n",
        "print(a is b) # 兩者指到相同的記憶體位置，True"
      ],
      "execution_count": 4,
      "outputs": [
        {
          "output_type": "stream",
          "text": [
            "140391883348368\n",
            "True\n",
            "id a:140391883348368\n",
            "a:{'a': 'python'}\n",
            "id b:140391883348368\n",
            "b:{'a': 'python'}\n",
            "True\n"
          ],
          "name": "stdout"
        }
      ]
    },
    {
      "cell_type": "code",
      "metadata": {
        "id": "KNvs3PwxrQMd",
        "colab_type": "code",
        "outputId": "bfc1f1ec-c776-4301-9fce-695cd2b0422d",
        "colab": {
          "base_uri": "https://localhost:8080/",
          "height": 52
        }
      },
      "source": [
        "if 1==1 :\n",
        "  print('true')\n",
        "  \n",
        "if 2!=2:\n",
        "  print('test1')\n",
        "else:\n",
        "  print('test2')"
      ],
      "execution_count": 5,
      "outputs": [
        {
          "output_type": "stream",
          "text": [
            "true\n",
            "test2\n"
          ],
          "name": "stdout"
        }
      ]
    },
    {
      "cell_type": "code",
      "metadata": {
        "id": "iKhMyD-nroIk",
        "colab_type": "code",
        "outputId": "9444a50f-602f-4a7d-f30c-a889a399ead1",
        "colab": {
          "base_uri": "https://localhost:8080/",
          "height": 69
        }
      },
      "source": [
        "print(5**2) # 次方**\n",
        "\n",
        "print(2**7)\n",
        "\n",
        "print(2*3) # 乘*"
      ],
      "execution_count": 6,
      "outputs": [
        {
          "output_type": "stream",
          "text": [
            "25\n",
            "128\n",
            "6\n"
          ],
          "name": "stdout"
        }
      ]
    },
    {
      "cell_type": "code",
      "metadata": {
        "id": "PV8W1BAHtPA_",
        "colab_type": "code",
        "outputId": "12b1412e-189c-406e-8345-e2ccb70ae187",
        "colab": {
          "base_uri": "https://localhost:8080/",
          "height": 52
        }
      },
      "source": [
        "print(17/3) # 除法 /\n",
        "print(17//3) # 除法並只保留整數 // "
      ],
      "execution_count": 7,
      "outputs": [
        {
          "output_type": "stream",
          "text": [
            "5.666666666666667\n",
            "5\n"
          ],
          "name": "stdout"
        }
      ]
    },
    {
      "cell_type": "code",
      "metadata": {
        "id": "Ix9pmlQ1t0uH",
        "colab_type": "code",
        "outputId": "df886da7-ad42-4f15-e130-48b53f1105a5",
        "colab": {
          "base_uri": "https://localhost:8080/",
          "height": 35
        }
      },
      "source": [
        "print('I\\'m'+4*' very'+' gentlemen.') #　重複字串"
      ],
      "execution_count": 8,
      "outputs": [
        {
          "output_type": "stream",
          "text": [
            "I'm very very very very gentlemen.\n"
          ],
          "name": "stdout"
        }
      ]
    },
    {
      "cell_type": "code",
      "metadata": {
        "id": "hNRTwbCpuYRm",
        "colab_type": "code",
        "outputId": "90ba3845-37a9-4dd5-803e-b12f4af97830",
        "colab": {
          "base_uri": "https://localhost:8080/",
          "height": 87
        }
      },
      "source": [
        "'''\n",
        " +---+---+---+---+---+---+\n",
        " | P | y | t | h | o | n |\n",
        " +---+---+---+---+---+---+\n",
        " 0   1   2   3   4   5   6\n",
        "-6  -5  -4  -3  -2  -1\n",
        "'''\n",
        "\n",
        "str1 = 'Python'\n",
        "print(str1[0:6])\n",
        "print(str1[0:3])\n",
        "print(str1[:4])\n",
        "print(str1[-6:])"
      ],
      "execution_count": 9,
      "outputs": [
        {
          "output_type": "stream",
          "text": [
            "Python\n",
            "Pyt\n",
            "Pyth\n",
            "Python\n"
          ],
          "name": "stdout"
        }
      ]
    },
    {
      "cell_type": "code",
      "metadata": {
        "id": "d6b0sS6wvmH2",
        "colab_type": "code",
        "outputId": "65533857-84e9-49d1-a413-859029e11c91",
        "colab": {
          "base_uri": "https://localhost:8080/",
          "height": 87
        }
      },
      "source": [
        "str2 = 'iPhone is a good product.'\n",
        "print(str2[:9])\n",
        "print(str2[:10]) #  多一個空白\n",
        "print(str2[5:]) #從第五位到最後\n",
        "print(str2[5:6])"
      ],
      "execution_count": 10,
      "outputs": [
        {
          "output_type": "stream",
          "text": [
            "iPhone is\n",
            "iPhone is \n",
            "e is a good product.\n",
            "e\n"
          ],
          "name": "stdout"
        }
      ]
    },
    {
      "cell_type": "code",
      "metadata": {
        "id": "WNzbiPke1bwS",
        "colab_type": "code",
        "outputId": "6b161c84-b538-4312-bfb7-07cda166357b",
        "colab": {
          "base_uri": "https://localhost:8080/",
          "height": 35
        }
      },
      "source": [
        "a = 0\n",
        "b = 1\n",
        "c = 2\n",
        "\n",
        "if a!=b:\n",
        "  print('test1')\n",
        "elif a!=c:\n",
        "  print('test2')\n",
        "else:\n",
        "  print('test3')"
      ],
      "execution_count": 11,
      "outputs": [
        {
          "output_type": "stream",
          "text": [
            "test1\n"
          ],
          "name": "stdout"
        }
      ]
    },
    {
      "cell_type": "code",
      "metadata": {
        "id": "D_fHDuK23kp7",
        "colab_type": "code",
        "outputId": "203fe170-6e04-4e90-9740-fa91e250630f",
        "colab": {
          "base_uri": "https://localhost:8080/",
          "height": 52
        }
      },
      "source": [
        "def f(x):\n",
        "  return {'a': 1,'b': 2,}[x]\n",
        "print(f('b'))\n",
        "\n",
        "d = {'a': 1,'b': 2,}\n",
        "print(d['a'])\n"
      ],
      "execution_count": 13,
      "outputs": [
        {
          "output_type": "stream",
          "text": [
            "2\n",
            "1\n"
          ],
          "name": "stdout"
        }
      ]
    },
    {
      "cell_type": "code",
      "metadata": {
        "id": "gf1C-l7pGHHW",
        "colab_type": "code",
        "colab": {
          "base_uri": "https://localhost:8080/",
          "height": 277
        },
        "outputId": "e8edae67-48f8-4e76-9e9a-50c43b14f0a4"
      },
      "source": [
        "for i in range(15):\n",
        "  print(i)"
      ],
      "execution_count": 15,
      "outputs": [
        {
          "output_type": "stream",
          "text": [
            "0\n",
            "1\n",
            "2\n",
            "3\n",
            "4\n",
            "5\n",
            "6\n",
            "7\n",
            "8\n",
            "9\n",
            "10\n",
            "11\n",
            "12\n",
            "13\n",
            "14\n"
          ],
          "name": "stdout"
        }
      ]
    },
    {
      "cell_type": "code",
      "metadata": {
        "id": "4ye1B5kvH-Ou",
        "colab_type": "code",
        "colab": {
          "base_uri": "https://localhost:8080/",
          "height": 35
        },
        "outputId": "d26764c5-74fa-4367-e85d-5522d271f3a3"
      },
      "source": [
        "i=1\n",
        "while i == 1:\n",
        "  print(i)\n",
        "  i+=1"
      ],
      "execution_count": 30,
      "outputs": [
        {
          "output_type": "stream",
          "text": [
            "1\n"
          ],
          "name": "stdout"
        }
      ]
    },
    {
      "cell_type": "code",
      "metadata": {
        "id": "419Tb099G6Pt",
        "colab_type": "code",
        "colab": {
          "base_uri": "https://localhost:8080/",
          "height": 156
        },
        "outputId": "89d7f401-0644-4320-f0f2-e771fcaf5b81"
      },
      "source": [
        "print(list(range(10)))\n",
        "print(list(range(0,15,1)))\n",
        "print(list(range(2,7,1)))\n",
        "print(list(range(2,7,3)))\n",
        "print(list(range(-6,7,3)))\n",
        "print(list(range(-6,-20,-2)))\n",
        "print(list(range(0)))\n",
        "print(list(range(12,0)))"
      ],
      "execution_count": 26,
      "outputs": [
        {
          "output_type": "stream",
          "text": [
            "[0, 1, 2, 3, 4, 5, 6, 7, 8, 9]\n",
            "[0, 1, 2, 3, 4, 5, 6, 7, 8, 9, 10, 11, 12, 13, 14]\n",
            "[2, 3, 4, 5, 6]\n",
            "[2, 5]\n",
            "[-6, -3, 0, 3, 6]\n",
            "[-6, -8, -10, -12, -14, -16, -18]\n",
            "[]\n",
            "[]\n"
          ],
          "name": "stdout"
        }
      ]
    }
  ]
}

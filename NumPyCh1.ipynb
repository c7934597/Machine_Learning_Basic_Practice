{
  "nbformat": 4,
  "nbformat_minor": 0,
  "metadata": {
    "colab": {
      "name": "NumPyCh1.ipynb",
      "version": "0.3.2",
      "provenance": [],
      "collapsed_sections": [],
      "include_colab_link": true
    },
    "kernelspec": {
      "name": "python3",
      "display_name": "Python 3"
    }
  },
  "cells": [
    {
      "cell_type": "markdown",
      "metadata": {
        "id": "view-in-github",
        "colab_type": "text"
      },
      "source": [
        "<a href=\"https://colab.research.google.com/github/c7934597/Python_Basic_Practice/blob/master/NumPyCh1.ipynb\" target=\"_parent\"><img src=\"https://colab.research.google.com/assets/colab-badge.svg\" alt=\"Open In Colab\"/></a>"
      ]
    },
    {
      "cell_type": "code",
      "metadata": {
        "id": "5ET1oyCkUfvP",
        "colab_type": "code",
        "outputId": "5f94398d-3cc2-4413-9854-0bcfbbd33482",
        "colab": {
          "base_uri": "https://localhost:8080/",
          "height": 87
        }
      },
      "source": [
        "import numpy as np\n",
        "\n",
        "'''\n",
        "建立一個陣列，並給予一些初始值！\n",
        "這邊分別以兩種型別(整數、浮點數)的數值來做範例，整數、浮點數分別為a和b。\n",
        "ndarray.dtype：該陣列型別的屬性\n",
        "'''\n",
        "\n",
        "a = np.array([1, 2, 3, 4, 5])\n",
        "print(\"a=>{0}\".format(a))\n",
        "print(\"a.dtype=>{0}\".format(a.dtype))\n",
        "print()\n",
        "b = np.array([1.25, 2.25, 3.25, 4.25, 5.25])\n",
        "print(\"b.dtype=>{0}\".format(b.dtype))"
      ],
      "execution_count": 0,
      "outputs": [
        {
          "output_type": "stream",
          "text": [
            "a=>[1 2 3 4 5]\n",
            "a.dtype=>int64\n",
            "\n",
            "b.dtype=>float64\n"
          ],
          "name": "stdout"
        }
      ]
    },
    {
      "cell_type": "code",
      "metadata": {
        "id": "SEou9rHUWCPq",
        "colab_type": "code",
        "outputId": "6587a6ff-fa64-448d-97a4-60c8f841c733",
        "colab": {
          "base_uri": "https://localhost:8080/",
          "height": 121
        }
      },
      "source": [
        "'''\n",
        "重要屬性\n",
        "ndarray.ndim：NumPy ndarray物件的維度\n",
        "ndarry.shape：ndarry物件的每一個維度的大小(size)，回傳資料類別為Tuple\n",
        "ndarry.size：ndarry物件所組成之array的總元素數量，回應之數值會等於ndarray.shape的每個元素相乘\n",
        "ndarry.dtype：ndarray物件內組成元素的型態\n",
        "ndarray.itemsize：陣列中每一個元素的大小(Bytes) (ex: int16=>16/8=2 Bytes)\n",
        "ndarry.data：這是一個存有實際陣列元素的緩衝，通常我們不需要使用這個屬性，因為我們可以使用index存取這些元素。\n",
        "\n",
        "'''\n",
        "\n",
        "aa = np.array([(1.9, 1.5, 1.3), (2.9, 2.5, 2.3),(6.9, 8.5, 8.3)], dtype=np.int16)\n",
        "# ndarray.ndim\n",
        "print(\"ndim:{0}\".format(aa.ndim))\n",
        "# ndarry.shape\n",
        "print(\"shape:{0}\".format(aa.shape))\n",
        "# ndarry.size\n",
        "print(\"size:{0}\".format(aa.size))\n",
        "# ndarry.dtype\n",
        "print(\"dtype:{0}\".format(aa.dtype))\n",
        "# ndarray.itemsize\n",
        "print(\"itemsize:{0}\".format(aa.itemsize))\n",
        "# ndarry.data\n",
        "print(\"data:{0}\".format(aa.data))"
      ],
      "execution_count": 0,
      "outputs": [
        {
          "output_type": "stream",
          "text": [
            "ndim:2\n",
            "shape:(3, 3)\n",
            "size:9\n",
            "dtype:int16\n",
            "itemsize:2\n",
            "data:<memory at 0x7f6d146ae048>\n"
          ],
          "name": "stdout"
        }
      ]
    },
    {
      "cell_type": "code",
      "metadata": {
        "id": "bSAUnPmYXNim",
        "colab_type": "code",
        "outputId": "94edd537-e51c-484a-8751-655d5a954c00",
        "colab": {
          "base_uri": "https://localhost:8080/",
          "height": 104
        }
      },
      "source": [
        "'''\n",
        "建立陣列的方法\n",
        "1維陣列\n",
        "np.array( [<陣列元素用逗號隔開>] )：簡易一維陣列\n",
        "np.arange( 起始值, 結束值, 步幅, 資料型別 )：也是產生一維陣列，和np.array()的差別在於arange擁有較大的彈性，而且元素數值是自動化產生！\n",
        "'''\n",
        "\n",
        "## 1維陣列\n",
        "a = np.array([6, 5, 4, 3, 2])\n",
        "print(\"a=>{0}\".format(a))\n",
        "print()\n",
        "b = np.arange(10)\n",
        "print(\"b=>{0}\".format(b))\n",
        "print()\n",
        "c = np.arange(0, 10, 1.5, dtype=np.float64)\n",
        "print(\"c=>{0}\".format(c))"
      ],
      "execution_count": 0,
      "outputs": [
        {
          "output_type": "stream",
          "text": [
            "a=>[6 5 4 3 2]\n",
            "\n",
            "b=>[0 1 2 3 4 5 6 7 8 9]\n",
            "\n",
            "c=>[0.  1.5 3.  4.5 6.  7.5 9. ]\n"
          ],
          "name": "stdout"
        }
      ]
    },
    {
      "cell_type": "code",
      "metadata": {
        "id": "kJp3xZgma_ti",
        "colab_type": "code",
        "outputId": "27bb8afd-b2fc-4746-f7c2-af3607d88f43",
        "colab": {
          "base_uri": "https://localhost:8080/",
          "height": 52
        }
      },
      "source": [
        "'''\n",
        "2維陣列\n",
        "np.array( [[<Row1陣列元素>], [<Row2陣列元素>]] )：產生簡易二維陣列\n",
        "'''\n",
        "\n",
        "## 2維陣列 2-by-3 array\n",
        "b = np.array([[1.1, 1.2, 1.3], [2.1, 2.2, 2.3]])\n",
        "print(\"b=>{0}\".format(b))"
      ],
      "execution_count": 0,
      "outputs": [
        {
          "output_type": "stream",
          "text": [
            "b=>[[1.1 1.2 1.3]\n",
            " [2.1 2.2 2.3]]\n"
          ],
          "name": "stdout"
        }
      ]
    },
    {
      "cell_type": "code",
      "metadata": {
        "id": "AERGbZr5bPqw",
        "colab_type": "code",
        "outputId": "c2750efa-7bd8-4867-d2dd-d50f56dbb5d8",
        "colab": {
          "base_uri": "https://localhost:8080/",
          "height": 52
        }
      },
      "source": [
        "'''\n",
        "指定陣列型別\n",
        "np.array( [[<Row1陣列元素>], [<Row2陣列元素>]], dtype=np.int16 )：產生型別為int的陣列\n",
        "'''\n",
        "\n",
        "## Assign a particular data type to an array\n",
        "aa = np.array([[1.9, 1.5, 1.3], [2.9, 2.5, 2.3]], dtype=np.int16)\n",
        "print(\"aa=>{0}\".format(aa))"
      ],
      "execution_count": 0,
      "outputs": [
        {
          "output_type": "stream",
          "text": [
            "aa=>[[1 1 1]\n",
            " [2 2 2]]\n"
          ],
          "name": "stdout"
        }
      ]
    },
    {
      "cell_type": "code",
      "metadata": {
        "id": "87e7T67pbemH",
        "colab_type": "code",
        "outputId": "f5dce8b0-02a0-4fb4-baf9-9263abfa7f87",
        "colab": {
          "base_uri": "https://localhost:8080/",
          "height": 87
        }
      },
      "source": [
        "'''\n",
        "複數陣列(Complex)\n",
        "很簡單，就是把陣列元素用複數表示法指定就好了：實部+虛部j\n",
        "或者是用dtype=complex指定陣列元素為複數！\n",
        "'''\n",
        "\n",
        "c1 = np.array([(1.1, 1.2, 1.3), (2.1, 2.2, 2.3)], dtype=complex)\n",
        "print(\"c1=>{0}\".format(c1))\n",
        "print()\n",
        "c2 = np.array([2.1+6j, 3.2+9j, 4.3+12j])\n",
        "print(\"c2=>{0}\".format(c2))"
      ],
      "execution_count": 0,
      "outputs": [
        {
          "output_type": "stream",
          "text": [
            "c1=>[[1.1+0.j 1.2+0.j 1.3+0.j]\n",
            " [2.1+0.j 2.2+0.j 2.3+0.j]]\n",
            "\n",
            "c2=>[2.1 +6.j 3.2 +9.j 4.3+12.j]\n"
          ],
          "name": "stdout"
        }
      ]
    },
    {
      "cell_type": "code",
      "metadata": {
        "id": "WtAgjpPPd6Qg",
        "colab_type": "code",
        "outputId": "3d10e584-da5f-4c0c-cdf0-490f500fa3f1",
        "colab": {
          "base_uri": "https://localhost:8080/",
          "height": 69
        }
      },
      "source": [
        "'''\n",
        "建立陣列常用函數\n",
        "Zeros\n",
        "np.zeros( (陣列各維度大小用逗號區分) )：建立全為0的陣列，可以小括號定義陣列的各個維度的大小！\n",
        "'''\n",
        "\n",
        "zeros = np.zeros( (3, 5) )\n",
        "print(\"zeros=>{0}\".format(zeros))"
      ],
      "execution_count": 0,
      "outputs": [
        {
          "output_type": "stream",
          "text": [
            "zeros=>[[0. 0. 0. 0. 0.]\n",
            " [0. 0. 0. 0. 0.]\n",
            " [0. 0. 0. 0. 0.]]\n"
          ],
          "name": "stdout"
        }
      ]
    },
    {
      "cell_type": "code",
      "metadata": {
        "id": "kVkO5p_peE66",
        "colab_type": "code",
        "outputId": "b6db5c2a-d171-4453-dac1-776c836df423",
        "colab": {
          "base_uri": "https://localhost:8080/",
          "height": 69
        }
      },
      "source": [
        "'''\n",
        "Ones\n",
        "np.ones( (陣列各維度大小用逗號區分) )：用法與np.zeros一樣！\n",
        "'''\n",
        "\n",
        "## Ones\n",
        "ones = np.ones( (3, 5) )\n",
        "print(\"ones=>{0}\".format(ones))"
      ],
      "execution_count": 0,
      "outputs": [
        {
          "output_type": "stream",
          "text": [
            "ones=>[[1. 1. 1. 1. 1.]\n",
            " [1. 1. 1. 1. 1.]\n",
            " [1. 1. 1. 1. 1.]]\n"
          ],
          "name": "stdout"
        }
      ]
    },
    {
      "cell_type": "code",
      "metadata": {
        "id": "KeK1zr0PeOfy",
        "colab_type": "code",
        "outputId": "69d00112-70e0-42e6-c6c7-8bb970c11300",
        "colab": {
          "base_uri": "https://localhost:8080/",
          "height": 52
        }
      },
      "source": [
        "'''\n",
        "Empty\n",
        "np.empty( (陣列各維度大小用逗號區分) )：用法與np.zeros一樣，但唯一的差別是NumPy不會初始化陣列內元素的初始值，所以內容將會是不確定的。\n",
        "'''\n",
        "\n",
        "## Empty\n",
        "## It means that we want to declare a uninitialized matrix.\n",
        "e = np.empty( (2, 5) )\n",
        "print(\"e=>{0}\".format(e))"
      ],
      "execution_count": 0,
      "outputs": [
        {
          "output_type": "stream",
          "text": [
            "e=>[[0.0e+000 4.9e-324 9.9e-324 1.5e-323 2.0e-323]\n",
            " [2.5e-323 3.0e-323 3.5e-323 4.0e-323 4.4e-323]]\n"
          ],
          "name": "stdout"
        }
      ]
    },
    {
      "cell_type": "code",
      "metadata": {
        "id": "NMnAYmKHe3a3",
        "colab_type": "code",
        "outputId": "d626aed5-5f28-4176-e14b-f8730ecc7ace",
        "colab": {
          "base_uri": "https://localhost:8080/",
          "height": 35
        }
      },
      "source": [
        "'''\n",
        "Arange\n",
        "np.arange( 起始值, 結束值, 步幅, 資料型別 )：也是產生一維陣列，\n",
        "和np.array()的差別在於arange擁有較大的彈性，而且元素數值是自動化產生！步幅決定每隔多少數值產生一個元素(等差的概念)。\n",
        "'''\n",
        "\n",
        "## Arange\n",
        "r1 = np.arange(25, 30, .5)\n",
        "print(\"r1=>{0}\".format(r1))"
      ],
      "execution_count": 0,
      "outputs": [
        {
          "output_type": "stream",
          "text": [
            "r1=>[25.  25.5 26.  26.5 27.  27.5 28.  28.5 29.  29.5]\n"
          ],
          "name": "stdout"
        }
      ]
    },
    {
      "cell_type": "code",
      "metadata": {
        "id": "-wn9R-hvfAnZ",
        "colab_type": "code",
        "outputId": "5ccc2c3a-e33f-4df2-f862-2368aa067c20",
        "colab": {
          "base_uri": "https://localhost:8080/",
          "height": 52
        }
      },
      "source": [
        "'''\n",
        "Linspace\n",
        "np.linspace( 起始值, 結束值, 起始與結束的區間內要產生幾個元素 )：這個在畫線時還蠻常用到的！\n",
        "只要給定陣列的區間(起始值、結束值)，就可以要求在這個區間內產生幾個元素！\n",
        "'''\n",
        "\n",
        "## Linspace\n",
        "lin = np.linspace(3, 5, 9)\n",
        "print(\"lin=>\\n{0}\".format(lin))"
      ],
      "execution_count": 0,
      "outputs": [
        {
          "output_type": "stream",
          "text": [
            "lin=>\n",
            "[3.   3.25 3.5  3.75 4.   4.25 4.5  4.75 5.  ]\n"
          ],
          "name": "stdout"
        }
      ]
    }
  ]
}
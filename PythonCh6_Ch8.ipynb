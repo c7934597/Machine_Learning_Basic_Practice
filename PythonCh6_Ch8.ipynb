{
  "nbformat": 4,
  "nbformat_minor": 0,
  "metadata": {
    "colab": {
      "name": "PythonCh6_Ch8.ipynb",
      "version": "0.3.2",
      "provenance": [],
      "collapsed_sections": [],
      "include_colab_link": true
    },
    "kernelspec": {
      "name": "python3",
      "display_name": "Python 3"
    }
  },
  "cells": [
    {
      "cell_type": "markdown",
      "metadata": {
        "id": "view-in-github",
        "colab_type": "text"
      },
      "source": [
        "<a href=\"https://colab.research.google.com/github/c7934597/Python_Numpy_Basic_Practice/blob/master/PythonCh6_Ch8.ipynb\" target=\"_parent\"><img src=\"https://colab.research.google.com/assets/colab-badge.svg\" alt=\"Open In Colab\"/></a>"
      ]
    },
    {
      "cell_type": "code",
      "metadata": {
        "id": "eLaiqVK0nvZi",
        "colab_type": "code",
        "outputId": "5f5ba8b8-2805-48fb-fbff-4929a0052d58",
        "colab": {
          "base_uri": "https://localhost:8080/",
          "height": 35
        }
      },
      "source": [
        "'''\n",
        "逗號『 , 』\n",
        "用簡單的逗號就可以達成輸出文字與數字混合的訊息\n",
        "'''\n",
        "\n",
        "age = 18\n",
        "print(\"I am\", age, \"years old.\")"
      ],
      "execution_count": 0,
      "outputs": [
        {
          "output_type": "stream",
          "text": [
            "I am 18 years old.\n"
          ],
          "name": "stdout"
        }
      ]
    },
    {
      "cell_type": "code",
      "metadata": {
        "id": "PYFB5xOcugSk",
        "colab_type": "code",
        "outputId": "1752ac09-0d65-4dd7-eaf4-1cf49c2a9dc4",
        "colab": {
          "base_uri": "https://localhost:8080/",
          "height": 104
        }
      },
      "source": [
        "'''\n",
        "類別repr(str).rjust(N)\n",
        "字串自動填滿N位數，並向右對齊\n",
        "\n",
        "repr類別之下還有幾個也都蠻好用的方法！\n",
        "repr(str).ljust(N)：保留N字元，並且向左對齊\n",
        "repr(str).center(N)：保留N字元，並且左右對齊(置中)\n",
        "'''\n",
        "\n",
        "for i in range(1, 6):\n",
        "  str = \"\"\n",
        "  for j in range(1, 4):\n",
        "    str += repr(j).rjust(2) + \"x\" + repr(i).rjust(2) + \"=\" + repr(i*j).rjust(2) + \"\\t\"\n",
        "  print(str)"
      ],
      "execution_count": 0,
      "outputs": [
        {
          "output_type": "stream",
          "text": [
            " 1x 1= 1\t 2x 1= 2\t 3x 1= 3\t\n",
            " 1x 2= 2\t 2x 2= 4\t 3x 2= 6\t\n",
            " 1x 3= 3\t 2x 3= 6\t 3x 3= 9\t\n",
            " 1x 4= 4\t 2x 4= 8\t 3x 4=12\t\n",
            " 1x 5= 5\t 2x 5=10\t 3x 5=15\t\n"
          ],
          "name": "stdout"
        }
      ]
    },
    {
      "cell_type": "code",
      "metadata": {
        "id": "S0EkSmSmLJne",
        "colab_type": "code",
        "outputId": "d37d5499-f259-402a-e169-37baadc15fd1",
        "colab": {
          "base_uri": "https://localhost:8080/",
          "height": 225
        }
      },
      "source": [
        "'''\n",
        "字串的方法 str.format()\n",
        "“字串{變數}”.format(對應變數)\n",
        "變數格式的語法：{變數序號, 格式}\n",
        "變數序號：如果你有好幾個不同的變數，就必須要從0開始往後編號\n",
        "格式：預留字元數、變數型態(d:整數, f:浮點數 )\n",
        "'''\n",
        "\n",
        "for i in range(1, 6):\n",
        "  print(\"{0:2d}: {1:3d}\".format(i, i*i)) # 2d是兩個寬度十進制數顯示\n",
        "  \n",
        "for i in range(1, 6):\n",
        "  print(\"{0}: {1}\".format(i, i*i))\n",
        "  \n",
        "import math\n",
        "print(\"I'm {0:3d} years old. Pi is {1:6.5f}\".format(18, math.pi)) # 6.5f 指的是一个输出6个字符，其中5个小数\n",
        "\n",
        "# 使用字典加上**與format搭配印出指定的資料\n",
        "dict = {\"Andy\": 100, \"Betty\": 60, \"Cindy\": 85, \"Denny\": 20, \"Emily\": 75}\n",
        "print(\"Andy got {Andy:d} and Emily got {Emily:d}.\".format(**dict))"
      ],
      "execution_count": 0,
      "outputs": [
        {
          "output_type": "stream",
          "text": [
            " 1:   1\n",
            " 2:   4\n",
            " 3:   9\n",
            " 4:  16\n",
            " 5:  25\n",
            "1: 1\n",
            "2: 4\n",
            "3: 9\n",
            "4: 16\n",
            "5: 25\n",
            "I'm  18 years old. Pi is 3.14159\n",
            "Andy got 100 and Emily got 75.\n"
          ],
          "name": "stdout"
        }
      ]
    },
    {
      "cell_type": "code",
      "metadata": {
        "id": "BE5k-4rOQOl4",
        "colab_type": "code",
        "colab": {}
      },
      "source": [
        "'''\n",
        "開檔/讀檔/寫檔\n",
        "使用open()來開啟或讀取檔案\n",
        "open(“檔名”, “方法”, encoding=”編碼”)\n",
        "方法：r:僅讀取、w:完全取代原有內容、a:增加新的內容至文件尾端、r+:讀取加寫入\n",
        "讀取檔案內容：file.read()\n",
        "'''\n",
        "\n",
        "file = open(\"text\", \"r\", encoding=\"utf8\")\n",
        "# 直接使用file.read()讀取檔案內容！\n",
        "print(file.read())\n",
        "# 讀取結束後，要記得把檔案關閉 file.close()\n",
        "file.close()"
      ],
      "execution_count": 0,
      "outputs": []
    },
    {
      "cell_type": "code",
      "metadata": {
        "id": "QDyEeuV5QpVR",
        "colab_type": "code",
        "colab": {}
      },
      "source": [
        "'''\n",
        "另一種更安全的讀寫檔方法『with open() as file』\n",
        "'''\n",
        "\n",
        "my_list = []\n",
        "with open('text', 'r', encoding=\"utf8\") as read_f:\n",
        "    for row in read_f.readlines():\n",
        "        # strip(\"\\n\") 去除換行符號\n",
        "        my_list.append(row.strip('\\n'))\n",
        " \n",
        "for data in my_list:\n",
        "    print(data)"
      ],
      "execution_count": 0,
      "outputs": []
    },
    {
      "cell_type": "code",
      "metadata": {
        "id": "ePottF4OQ-xR",
        "colab_type": "code",
        "colab": {}
      },
      "source": [
        "'''\n",
        "寫檔像這樣就可以了\n",
        "'''\n",
        "\n",
        "# 僅需要寫時用『w』\n",
        "write_f = open('text', 'w', encoding=\"utf8\")\n",
        "for i in range(5):\n",
        "    # 用write(字串)來寫入檔\n",
        "    write_f.write(\"Python Writing:我是傳奇{0}.\\n\".format(i))\n",
        "write_f.close()"
      ],
      "execution_count": 0,
      "outputs": []
    },
    {
      "cell_type": "code",
      "metadata": {
        "id": "dH2kjN2SRV4N",
        "colab_type": "code",
        "colab": {}
      },
      "source": [
        "'''\n",
        "讀取JSON檔\n",
        "先建立一個JSON檔吧！將下列JSON內容另存成『json.json』！\n",
        "'''\n",
        "\n",
        "[{\"location\":\"桃園區\",\"面積\":34.8046,\"下轄里數\":76,\"下轄鄰數\":1725,\"人口數\":439643,\"人口增減\":\"+467\",\"人口密度\":12632,\"郵遞區號\":330},\n",
        "{\"location\":\"中壢區\",\"面積\":76.5200,\"下轄里數\":85,\"下轄鄰數\":1943,\"人口數\":403915,\"人口增減\":\"+597\",\"人口密度\":5279,\"郵遞區號\":320},\n",
        "{\"location\":\"大溪區\",\"面積\":105.1206,\"下轄里數\":27,\"下轄鄰數\":685,\"人口數\":94370,\"人口增減\":\"+45\",\"人口密度\":898,\"郵遞區號\":335},\n",
        "{\"location\":\"楊梅區\",\"面積\":89.1229,\"下轄里數\":41,\"下轄鄰數\":972,\"人口數\":167075,\"人口增減\":\"+282\",\"人口密度\":1875,\"郵遞區號\":326},\n",
        "{\"location\":\"蘆竹區\",\"面積\":75.5025,\"下轄里數\":37,\"下轄鄰數\":663,\"人口數\":161450,\"人口增減\":\"+257\",\"人口密度\":2138,\"郵遞區號\":338},\n",
        "{\"location\":\"大園區\",\"面積\":87.3925,\"下轄里數\":18,\"下轄鄰數\":425,\"人口數\":88860,\"人口增減\":\"+131\",\"人口密度\":1017,\"郵遞區號\":337},\n",
        "{\"location\":\"龜山區\",\"面積\":72.0177,\"下轄里數\":30,\"下轄鄰數\":804,\"人口數\":156971,\"人口增減\":\"+335\",\"人口密度\":2180,\"郵遞區號\":333},\n",
        "{\"location\":\"八德區\",\"面積\":33.7111,\"下轄里數\":48,\"下轄鄰數\":1305,\"人口數\":197261,\"人口增減\":\"+369\",\"人口密度\":5852,\"郵遞區號\":334},\n",
        "{\"location\":\"龍潭區\",\"面積\":75.2341,\"下轄里數\":30,\"下轄鄰數\":897,\"人口數\":121496,\"人口增減\":\"+126\",\"人口密度\":1615,\"郵遞區號\":325},\n",
        "{\"location\":\"平鎮區\",\"面積\":47.7532,\"下轄里數\":46,\"下轄鄰數\":1497,\"人口數\":223754,\"人口增減\":\"+254\",\"人口密度\":4686,\"郵遞區號\":324},\n",
        "{\"location\":\"新屋區\",\"面積\":85.0166,\"下轄里數\":23,\"下轄鄰數\":270,\"人口數\":48888,\"人口增減\":\"+26\",\"人口密度\":575,\"郵遞區號\":327},\n",
        "{\"location\":\"觀音區\",\"面積\":87.9807,\"下轄里數\":24,\"下轄鄰數\":402,\"人口數\":66334,\"人口增減\":\"+110\",\"人口密度\":754,\"郵遞區號\":328},\n",
        "{\"location\":\"復興區\",\"面積\":350.7775,\"下轄里數\":10,\"下轄鄰數\":125,\"人口數\":11453,\"人口增減\":\"+13\",\"人口密度\":33,\"郵遞區號\":336}]"
      ],
      "execution_count": 0,
      "outputs": []
    },
    {
      "cell_type": "code",
      "metadata": {
        "id": "hnvq1D5KRdon",
        "colab_type": "code",
        "colab": {}
      },
      "source": [
        "'''\n",
        "讀取方法如下：\n",
        "需要先匯入json模組，才能使用json.loads讀取\n",
        "'''\n",
        "\n",
        "# 匯入json模組\n",
        "import json\n",
        "file = open('json.json', 'r', encoding='utf8')\n",
        "# 讀取JSON檔的方法json.loads(file.read())\n",
        "taoyuan = json.loads(file.read())\n",
        "print(taoyuan[1][\"location\"], taoyuan[1][\"面積\"])\n",
        "file.close()"
      ],
      "execution_count": 0,
      "outputs": []
    },
    {
      "cell_type": "code",
      "metadata": {
        "id": "qGSo-NQJRsfI",
        "colab_type": "code",
        "colab": {}
      },
      "source": [
        "'''\n",
        "寫入JSON檔\n",
        "本範例包含解決Python寫入中文字的問題！\n",
        "為解決中文字寫入的問題，必須要先匯入codecs！\n",
        "'''\n",
        "\n",
        "import codecs\n",
        " \n",
        "dict = {\"台灣人口\":23000000, \"台灣地理位置\": \"東南亞\"}\n",
        "# 開檔改成使用codecs！\n",
        "with codecs.open('my_writing_JSON', 'w', \"utf8\") as wf:\n",
        "    # ensure_ascii一定要設定成False，否則無法正確寫入中文\n",
        "    str = json.dumps(dict, ensure_ascii=False)\n",
        "    wf.write(str)"
      ],
      "execution_count": 0,
      "outputs": []
    },
    {
      "cell_type": "code",
      "metadata": {
        "id": "YO9C04ZboBxn",
        "colab_type": "code",
        "outputId": "344740fc-7814-4dcc-c19d-25dde84fe17e",
        "colab": {
          "base_uri": "https://localhost:8080/",
          "height": 156
        }
      },
      "source": [
        "'''\n",
        "我很確定可能的錯誤類型\n",
        "下列三個範例，重點都在於建構Try-catch時要先考慮到執行這段程式時會發生哪些錯誤，\n",
        "再把可能會發生的錯誤處理規劃好！\n",
        "Python各類型錯誤(Python Exception Type)\n",
        "'''\n",
        "\n",
        "# 範例1\n",
        "while True:\n",
        "    try:\n",
        "        # 直接將輸入值轉換成數字，所以輸入的不是數字就會引發錯誤！\n",
        "        x = int(input(\"#1 請輸入數字: \"))\n",
        "        print(\"#1 你剛才輸入的是:\", x)\n",
        "        break    # 跳出迴圈\n",
        "    # 數值錯誤\n",
        "    except ValueError:\n",
        "        print(\"#1 糟糕！你輸入的不是數字，請你再輸入一次！...\")\n",
        "\n",
        "# 範例2\n",
        "try:\n",
        "    # 故意除以零\n",
        "    print(\"#2 {0}除以零！\".format(x/0))\n",
        "# 數值除以零的錯誤\n",
        "except ZeroDivisionError:\n",
        "    print(\"#2 {0}不能除以零，誰都不行！\".format(x))\n",
        "\n",
        "# 範例3\n",
        "try:\n",
        "    # 故意用了沒宣告過的變數『magic_number』\n",
        "    print(\"#3 兩數相乘: {0}\", x * magic_number)\n",
        "# 變數未宣告的錯誤\n",
        "except NameError:\n",
        "    print(\"#3 變數未宣告的錯誤！\")"
      ],
      "execution_count": 0,
      "outputs": [
        {
          "output_type": "stream",
          "text": [
            "#1 請輸入數字: g\n",
            "#1 糟糕！你輸入的不是數字，請你再輸入一次！...\n",
            "#1 請輸入數字: k\n",
            "#1 糟糕！你輸入的不是數字，請你再輸入一次！...\n",
            "#1 請輸入數字: 8\n",
            "#1 你剛才輸入的是: 8\n",
            "#2 8不能除以零，誰都不行！\n",
            "#3 變數未宣告的錯誤！\n"
          ],
          "name": "stdout"
        }
      ]
    },
    {
      "cell_type": "code",
      "metadata": {
        "id": "wVrmym8oqbe7",
        "colab_type": "code",
        "outputId": "5cf6d96a-e8a6-4814-b97f-1724adeac643",
        "colab": {
          "base_uri": "https://localhost:8080/",
          "height": 35
        }
      },
      "source": [
        "import sys\n",
        " \n",
        "try:\n",
        "    mm = 9 / 0\n",
        "except:\n",
        "    # sys.exc_info()[0] 就是用來取出except的錯誤訊息的方法\n",
        "    print(\"Unexpected error:\", sys.exc_info()[0])"
      ],
      "execution_count": 0,
      "outputs": [
        {
          "output_type": "stream",
          "text": [
            "Unexpected error: <class 'ZeroDivisionError'>\n"
          ],
          "name": "stdout"
        }
      ]
    },
    {
      "cell_type": "code",
      "metadata": {
        "id": "5pyipdaTrKv7",
        "colab_type": "code",
        "outputId": "b4260ef5-47c6-46a3-96af-3061b1d1faea",
        "colab": {
          "base_uri": "https://localhost:8080/",
          "height": 253
        }
      },
      "source": [
        "'''\n",
        "拋出錯誤\n",
        "raise 錯誤類型(“錯誤訊息”)\n",
        "拋出錯誤的語法就是這麼簡單！\n",
        "'''\n",
        "\n",
        "try:\n",
        "    raise NameError(\"This is Name Error!\")\n",
        "except NameError:\n",
        "    print(\"We got Name Error!\")\n",
        "    raise"
      ],
      "execution_count": 0,
      "outputs": [
        {
          "output_type": "stream",
          "text": [
            "We got Name Error!\n"
          ],
          "name": "stdout"
        },
        {
          "output_type": "error",
          "ename": "NameError",
          "evalue": "ignored",
          "traceback": [
            "\u001b[0;31m---------------------------------------------------------------------------\u001b[0m",
            "\u001b[0;31mNameError\u001b[0m                                 Traceback (most recent call last)",
            "\u001b[0;32m<ipython-input-16-119e253dc5ff>\u001b[0m in \u001b[0;36m<module>\u001b[0;34m()\u001b[0m\n\u001b[1;32m      6\u001b[0m \u001b[0;34m\u001b[0m\u001b[0m\n\u001b[1;32m      7\u001b[0m \u001b[0;32mtry\u001b[0m\u001b[0;34m:\u001b[0m\u001b[0;34m\u001b[0m\u001b[0;34m\u001b[0m\u001b[0m\n\u001b[0;32m----> 8\u001b[0;31m     \u001b[0;32mraise\u001b[0m \u001b[0mNameError\u001b[0m\u001b[0;34m(\u001b[0m\u001b[0;34m\"This is Name Error!\"\u001b[0m\u001b[0;34m)\u001b[0m\u001b[0;34m\u001b[0m\u001b[0;34m\u001b[0m\u001b[0m\n\u001b[0m\u001b[1;32m      9\u001b[0m \u001b[0;32mexcept\u001b[0m \u001b[0mNameError\u001b[0m\u001b[0;34m:\u001b[0m\u001b[0;34m\u001b[0m\u001b[0;34m\u001b[0m\u001b[0m\n\u001b[1;32m     10\u001b[0m     \u001b[0mprint\u001b[0m\u001b[0;34m(\u001b[0m\u001b[0;34m\"We got Name Error!\"\u001b[0m\u001b[0;34m)\u001b[0m\u001b[0;34m\u001b[0m\u001b[0;34m\u001b[0m\u001b[0m\n",
            "\u001b[0;31mNameError\u001b[0m: This is Name Error!"
          ]
        }
      ]
    },
    {
      "cell_type": "code",
      "metadata": {
        "id": "HqMB2-eOrasy",
        "colab_type": "code",
        "outputId": "a069d40b-ca4a-4af7-9df2-65787995ed52",
        "colab": {
          "base_uri": "https://localhost:8080/",
          "height": 104
        }
      },
      "source": [
        "'''\n",
        "完整的Try-catch架構\n",
        "Try-catch的完整結構應該是這樣：try, except, else, finally\n",
        "try：需要被監控是否會出錯的程式區塊\n",
        "except：出了哪種錯誤，要有怎樣相對應的處理\n",
        "else：都沒錯誤，就會執行此區塊的程式\n",
        "finally：不論如何都會執行此區塊的程式\n",
        "'''\n",
        "\n",
        "def divide(x, y):\n",
        "    try:\n",
        "        result = x / y\n",
        "    except ZeroDivisionError:\n",
        "        print(\"不能除以零！\")\n",
        "    else:\n",
        "        print(\"相除結果是:\", result)\n",
        "    finally:\n",
        "        print(\"不論如何都會執行finally\")\n",
        " \n",
        "divide(2, 1)\n",
        "print(\"======\")\n",
        "divide(2, 0)"
      ],
      "execution_count": 0,
      "outputs": [
        {
          "output_type": "stream",
          "text": [
            "相除結果是: 2.0\n",
            "不論如何都會執行finally\n",
            "======\n",
            "不能除以零！\n",
            "不論如何都會執行finally\n"
          ],
          "name": "stdout"
        }
      ]
    }
  ]
}
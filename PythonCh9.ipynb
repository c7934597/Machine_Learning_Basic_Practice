{
  "nbformat": 4,
  "nbformat_minor": 0,
  "metadata": {
    "colab": {
      "name": "PythonCh9.ipynb",
      "version": "0.3.2",
      "provenance": [],
      "collapsed_sections": [],
      "include_colab_link": true
    },
    "kernelspec": {
      "name": "python3",
      "display_name": "Python 3"
    }
  },
  "cells": [
    {
      "cell_type": "markdown",
      "metadata": {
        "id": "view-in-github",
        "colab_type": "text"
      },
      "source": [
        "<a href=\"https://colab.research.google.com/github/c7934597/Python_Numpy_Basic_Practice/blob/master/PythonCh9.ipynb\" target=\"_parent\"><img src=\"https://colab.research.google.com/assets/colab-badge.svg\" alt=\"Open In Colab\"/></a>"
      ]
    },
    {
      "cell_type": "code",
      "metadata": {
        "id": "fJpgQn24ry-L",
        "colab_type": "code",
        "outputId": "3ed9643c-2da8-408c-ea3c-e1dae0237154",
        "colab": {
          "base_uri": "https://localhost:8080/",
          "height": 52
        }
      },
      "source": [
        "'''\n",
        "語法\n",
        "語法很簡單就是直接使用class關鍵字來完成類別的結構！\n",
        "定義類別的語法『 class 類別名稱: 』\n",
        "宣告物件的方法『 物件名稱 = 類別建構子名稱(參數) 』\n",
        "'''\n",
        "\n",
        "class FirstClass:\n",
        "    \"\"\"My first class in python.\"\"\"\n",
        "    \n",
        "    str = \"Apple\"\n",
        "    def fun(self):     # 在類別內的函數都至少要傳入參數self\n",
        "        return \"Hello world.\"\n",
        " \n",
        "my_obj = FirstClass()  # 宣告一個類別為FirstClass的物件\n",
        "print(my_obj.str)      # 使用物件的公開變數\n",
        "print(my_obj.fun())    # 使用物件的公開函數"
      ],
      "execution_count": 0,
      "outputs": [
        {
          "output_type": "stream",
          "text": [
            "Apple\n",
            "Hello world.\n"
          ],
          "name": "stdout"
        }
      ]
    },
    {
      "cell_type": "code",
      "metadata": {
        "id": "okSONuJgz1sA",
        "colab_type": "code",
        "outputId": "92fa87da-e4a0-4f2d-ccae-d753c1a2345b",
        "colab": {
          "base_uri": "https://localhost:8080/",
          "height": 191
        }
      },
      "source": [
        "'''\n",
        "建構子\n",
        "建構子語法如下：\n",
        "def __init__(self, 其他參數):\n",
        "就算是在建構子裡面self也是必須傳入的參數喔！\n",
        "\n",
        "值得一提的是Python不支援多建構子(multi constructor)，但是可以透過預設值的方式來達成！\n",
        "def __init__(self, para1=”para1預設值”, para2=”para2預設值2″):\n",
        "如此一來，就可以有3種宣告方式！\n",
        "\n",
        "使用類別自己的變數、函數都須要加上『 self.變數名稱 』才能使用！\n",
        "'''\n",
        "\n",
        "class FirstClass:\n",
        "    \"\"\"My first class in python.\"\"\"\n",
        "    str1 = \"Apple\"\n",
        "    str2 = \"IBM\"\n",
        "    def __init__(self, str1=\"參數1\", str2=\"參數2\"):\n",
        "        self.str1 = str1\n",
        "        self.str2 = str2\n",
        "\n",
        "    def fun(self):\n",
        "        return \"Hello world.\"\n",
        "\n",
        "my_obj = FirstClass()\n",
        "print(my_obj.str1)\n",
        "print(my_obj.str2)\n",
        "print(\"===分隔線===\")\n",
        "my_obj2 = FirstClass(\"我是參數1\")\n",
        "print(my_obj2.str1)\n",
        "print(my_obj2.str2)\n",
        "print(\"===分隔線===\")\n",
        "my_obj3 = FirstClass(\"我是參數1\", \"我是參數2\")\n",
        "print(my_obj3.str1)\n",
        "print(my_obj3.str2)\n",
        "print(\"===分隔線===\")\n",
        "my_obj4 = my_obj.fun()\n",
        "print(my_obj4)"
      ],
      "execution_count": 0,
      "outputs": [
        {
          "output_type": "stream",
          "text": [
            "參數1\n",
            "參數2\n",
            "===分隔線===\n",
            "我是參數1\n",
            "參數2\n",
            "===分隔線===\n",
            "我是參數1\n",
            "我是參數2\n",
            "===分隔線===\n",
            "Hello world.\n"
          ],
          "name": "stdout"
        }
      ]
    },
    {
      "cell_type": "code",
      "metadata": {
        "id": "07IofyR6DEJx",
        "colab_type": "code",
        "outputId": "685baa87-4f8f-44b6-ce57-c20ea3c4f4f2",
        "colab": {
          "base_uri": "https://localhost:8080/",
          "height": 260
        }
      },
      "source": [
        "'''\n",
        "Python Class的繼承也很簡單！語法如下：\n",
        "class 類別名稱(父類別):\n",
        "繼承父類別要記得實作父類別的建構子，像是下列第16行那樣！\n",
        "'''\n",
        "\n",
        "class Car:\n",
        "    wheels_number = 4      # 輪胎數量\n",
        "    car_doors = 4          # 車門數量\n",
        "    passengers = 4         # 乘客數量\n",
        "    def __init__(self, wheels_number=4, car_doors=4, passengers=4):\n",
        "        self.wheels_number = wheels_number\n",
        "        self.car_doors = car_doors\n",
        "        self.passengers = passengers\n",
        "\n",
        "# SUV也是一種車子，所以繼承Car\n",
        "class SUV(Car):\n",
        "    brand_name = \"\"        # 品牌名稱\n",
        "    air_bag = 2            # 安全氣囊數\n",
        "    sunroof = True         # 是否擁有天窗\n",
        "    def __init__(self, wheels_number, car_doors, passengers, brand_name=\"\", air_bag=2, sunroof=False):\n",
        "        super().__init__(wheels_number, car_doors, passengers) #繼承父類別要記得實作父類別的建構子\n",
        "        self.brand_name = brand_name\n",
        "        self.air_bag = air_bag\n",
        "        self.sunroof = sunroof\n",
        "\n",
        "    def getDetails(self):\n",
        "        print(\"==== Details ====\")\n",
        "        print(\"Brand:\", self.brand_name)\n",
        "        print(\"Wheels number:\", self.wheels_number)    # 可直接呼叫父類別的變數(屬性)\n",
        "        print(\"Doors number:\", self.car_doors)         # 可直接呼叫父類別的變數(屬性)\n",
        "        print(\"Air-bags number:\", self.air_bag)\n",
        "        print(\"Sunroof:\", self.sunroof)\n",
        "        print(\"=================\")\n",
        "\n",
        "# 宣告一台Toyota RAV的休旅車(SUV)\n",
        "toyota_rav = SUV(4, 5, 5, \"Toyota RAV\", 4, True)\n",
        "toyota_rav.getDetails()\n",
        "# 宣告一台BMW X5的休旅車\n",
        "bmw_x5 = SUV(4, 5, 5, \"BMW X5\", 6, True)\n",
        "bmw_x5.getDetails()"
      ],
      "execution_count": 0,
      "outputs": [
        {
          "output_type": "stream",
          "text": [
            "==== Details ====\n",
            "Brand: Toyota RAV\n",
            "Wheels number: 4\n",
            "Doors number: 5\n",
            "Air-bags number: 4\n",
            "Sunroof: True\n",
            "=================\n",
            "==== Details ====\n",
            "Brand: BMW X5\n",
            "Wheels number: 4\n",
            "Doors number: 5\n",
            "Air-bags number: 6\n",
            "Sunroof: True\n",
            "=================\n"
          ],
          "name": "stdout"
        }
      ]
    },
    {
      "cell_type": "code",
      "metadata": {
        "id": "QaIq7WSSI8Lt",
        "colab_type": "code",
        "outputId": "8bb9f8cd-3c72-4a58-d918-0d44fea2a529",
        "colab": {
          "base_uri": "https://localhost:8080/",
          "height": 69
        }
      },
      "source": [
        "'''\n",
        "定義兩種繼承Car的類別(SUV, Bus)，同時也直接覆載(overwrite)父類別已經定義的方法！\n",
        "撰寫方法如下，直接在子類別中覆載覆類別的方法即可！\n",
        "'''\n",
        "\n",
        "class Car:\n",
        "    # wheels_number:輪胎數量, car_doors:車門數量, passengers:乘客數量\n",
        "    def __init__(self, wheels_number=4, car_doors=4, passengers=4):\n",
        "        self.wheels_number = wheels_number\n",
        "        self.car_doors = car_doors\n",
        "        self.passengers = passengers\n",
        "    def drive(self):\n",
        "        print(\"Drive a car.\")\n",
        "\n",
        "# SUV也是一種車子，所以繼承Car\n",
        "class SUV(Car):\n",
        "    # brand_name:品牌名稱, air_bag:安全氣囊數, sunroof:是否擁有天窗\n",
        "    def __init__(self, wheels_number, car_doors, passengers, brand_name=\"\", air_bag=2, sunroof=False):\n",
        "        super().__init__(wheels_number, car_doors, passengers)\n",
        "        self.brand_name = brand_name\n",
        "        self.air_bag = air_bag\n",
        "        self.sunroof = sunroof\n",
        "    # 覆寫父類別的drive\n",
        "    def drive(self):\n",
        "        print(\"Drive this {0} to my vacation.\".format(self.brand_name))\n",
        "\n",
        "    def getDetails(self):\n",
        "        print(\"==== Details ====\")\n",
        "        print(\"Brand:\", self.brand_name)\n",
        "        print(\"Wheels number:\", self.wheels_number)    # 可直接呼叫父類別的變數(屬性)\n",
        "        print(\"Doors number:\", self.car_doors)         # 可直接呼叫父類別的變數(屬性)\n",
        "        print(\"Air-bags number:\", self.air_bag)\n",
        "        print(\"Sunroof:\", self.sunroof)\n",
        "        print(\"=================\")\n",
        "\n",
        "# Bus也是一種車子，所以繼承Car\n",
        "class Bus(Car):\n",
        "    # brand_name:品牌名稱, air_bag:安全氣囊數, sunroof:是否擁有天窗\n",
        "    def __init__(self, wheels_number, car_doors, passengers, brand_name=\"\", air_bag=0):\n",
        "        super().__init__(wheels_number, car_doors, passengers)\n",
        "        self.brand_name = brand_name\n",
        "        self.air_bag = air_bag\n",
        "\n",
        "    # 覆寫父類別的drive\n",
        "    def drive(self):\n",
        "        print(\"Take this {0} to my vacation.\".format(self.brand_name))\n",
        "\n",
        "    def getDetails(self):\n",
        "        print(\"==== Details ====\")\n",
        "        print(\"Brand:\", self.brand_name)\n",
        "        print(\"Wheels number:\", self.wheels_number)  # 可直接呼叫父類別的變數(屬性)\n",
        "        print(\"Doors number:\", self.car_doors)  # 可直接呼叫父類別的變數(屬性)\n",
        "        print(\"Air-bags number:\", self.air_bag)\n",
        "        print(\"=================\")\n",
        "\n",
        "# 宣告一台Toyota RAV的休旅車(SUV)\n",
        "toyota_rav = SUV(4, 5, 5, \"Toyota RAV\", 4, True)\n",
        "# 宣告一台BMW X5的休旅車\n",
        "bmw_x5 = SUV(4, 5, 5, \"BMW X5\", 6, True)\n",
        "# 宣告一台Volvo Bus的巴士\n",
        "volvo_bus = Bus(4, 3, 50, \"Volvo Bus\", 0)\n",
        "# 分別呼叫各種車輛的drive()方法\n",
        "def letsDrive(cars):\n",
        "    for car in cars:\n",
        "        car.drive()\n",
        "\n",
        "letsDrive([toyota_rav, bmw_x5, volvo_bus])"
      ],
      "execution_count": 0,
      "outputs": [
        {
          "output_type": "stream",
          "text": [
            "Drive this Toyota RAV to my vacation.\n",
            "Drive this BMW X5 to my vacation.\n",
            "Take this Volvo Bus to my vacation.\n"
          ],
          "name": "stdout"
        }
      ]
    },
    {
      "cell_type": "code",
      "metadata": {
        "id": "X7DcubE5JpVM",
        "colab_type": "code",
        "outputId": "60668884-327e-4e4c-f480-72be9a2b9859",
        "colab": {
          "base_uri": "https://localhost:8080/",
          "height": 35
        }
      },
      "source": [
        "'''\n",
        "物件與物件之間的互動可以透過覆載下列特殊方法來個別定義！\n",
        "特殊方法，例如：物件1 > 物件2\n",
        "def __gt__(self, other):\n",
        "以這種來實作比較self/other的屬性或方法等等的功能！\n",
        "'''\n",
        "\n",
        "class Car:\n",
        "    # wheels_number:輪胎數量, car_doors:車門數量, passengers:乘客數量\n",
        "    def __init__(self, wheels_number=4, car_doors=4, passengers=4):\n",
        "        self.wheels_number = wheels_number\n",
        "        self.car_doors = car_doors\n",
        "        self.passengers = passengers\n",
        "    def drive(self):\n",
        "        print(\"Drive a car.\")\n",
        "\n",
        "# SUV也是一種車子，所以繼承Car\n",
        "class SUV(Car):\n",
        "    # brand_name:品牌名稱, air_bag:安全氣囊數, sunroof:是否擁有天窗\n",
        "    def __init__(self, wheels_number, car_doors, passengers, brand_name=\"\", air_bag=2, sunroof=False):\n",
        "        super().__init__(wheels_number, car_doors, passengers)\n",
        "        self.brand_name = brand_name\n",
        "        self.air_bag = air_bag\n",
        "        self.sunroof = sunroof\n",
        "\n",
        "    # 回傳自己的安全氣囊數是否大於其他人的安全氣囊數的真假值\n",
        "    def __gt__(self, other):\n",
        "        return self.air_bag > other.air_bag\n",
        "\n",
        "    # 覆寫父類別的drive\n",
        "    def drive(self):\n",
        "        print(\"Drive this {0} to my vacation.\".format(self.brand_name))\n",
        "\n",
        "    def getDetails(self):\n",
        "        print(\"==== Details ====\")\n",
        "        print(\"Brand:\", self.brand_name)\n",
        "        print(\"Wheels number:\", self.wheels_number)    # 可直接呼叫父類別的變數(屬性)\n",
        "        print(\"Doors number:\", self.car_doors)         # 可直接呼叫父類別的變數(屬性)\n",
        "        print(\"Air-bags number:\", self.air_bag)\n",
        "        print(\"Sunroof:\", self.sunroof)\n",
        "        print(\"=================\")\n",
        "\n",
        "# 宣告一台Toyota RAV的休旅車(SUV)\n",
        "toyota_rav = SUV(4, 5, 5, \"Toyota RAV\", 4, True)\n",
        "# 宣告一台BMW X5的休旅車\n",
        "bmw_x5 = SUV(4, 5, 5, \"BMW X5\", 6, True)\n",
        "\n",
        "# 來判斷bmw_x5的安全氣囊數是否大於toyota_rav\n",
        "print(bmw_x5 > toyota_rav)"
      ],
      "execution_count": 0,
      "outputs": [
        {
          "output_type": "stream",
          "text": [
            "True\n"
          ],
          "name": "stdout"
        }
      ]
    }
  ]
}